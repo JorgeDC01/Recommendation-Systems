{
 "cells": [
  {
   "cell_type": "markdown",
   "metadata": {
    "colab_type": "text",
    "id": "DM9cd2i-ufBX"
   },
   "source": [
    "# Filtrado Colaborativo: *Bayesian Non-negative Matrix Factorization*\n",
    "\n",
    "El modelo NMF supone un gran avance para la justificación de las predicciones proporcionas por el sistema a la vez que mantiene los buenos resultados presentados por el modelo PMF. Sin embargo, a pesar de eliminar los valores negativos en los factores, las predicciones siguen siendo difilies de explicar.\n",
    "\n",
    "¿En qué rango se mueven los factores? ¿Que interpretación tiene cada valor numérico? ¿Qué un factor valga 0.8 quiere decir que es el doble de importante que uno que valga 0.4? Todas estas preguntas plantean dudas al usuario a la hora de entender qué esta haciendo el modelo y, por tanto, de confiar en los resultados que proporciona.\n",
    "\n",
    "La explicación de recomendaciones en modelos de factorización matricial pasa por dar un significado probabilístico a los valores de los factores latentes. Si se logra que todos los factores tomen valores en el rango \\[0, 1], será posible justificar las recomendaciones. De este modo, si un usuario tiene el valor 0.5 en el factor 2, querrá decir que existe una probabilidad de 0.5 de que al usuario le guste un item relacionado con el factor 2.\n",
    "\n",
    "El modelo *BNMF (**Bayesian Non-negative Matrix Factorization**)* se basa en el principio de la factorización matricial, pero aporta un significado probabilístico a los factores. A pesar de estar basado en la misma idea, el modelo de BNMF difiere bastante de PMF y NMF. BNMF se basa en el modelo bayesiano que puede observarse en la siguiente imagen:\n",
    "\n",
    "\n",
    "<img src=\"https://drive.google.com/uc?export=view&id=1ATFFIKDGGL1TJntfjiRoFrh7Mkwrl3pE\" alt=\"Datos empleados por los sistemas de recomendación\">\n",
    "\n",
    "Donde:\n",
    "\n",
    "- $\\alpha$ representa un parámetro del modelo que simboliza la probabilidad de obtener solapamiento entre los diferentes *clusters* que forma el subespacio de factores latentes.\n",
    "\n",
    "- $\\beta$ representa un parámetro del modelo relacionado con el número de evidencias necesarias para formar parte de un *cluster*.\n",
    "\n",
    "- $\\kappa_{i,k}$ es una variable aleatoria de una distribución Beta. Esta variable representa la probabilidad de que a un usuario del grupo $k$ le guste el item $i$.\n",
    "\n",
    "- $\\vec{\\theta}_u$ es un vector *k* dimensional de la variable aleatoria de una distribución Dirichlet. Este vector simboliza la probabilidad de que un usuario pertenezca a un grupo. Se emplea la distribución de Dirichlet porque conjuga perfectamente con la distribución de la variable categórica.\n",
    "\n",
    "- $z_{u,i}$ es una variable aleatoria de la distribución categórica. Representa que el usuario $u$ votará el item $i$ si el usuario pertenece al grupo *k*.\n",
    "\n",
    "- $\\rho_{u,i}$ es una variable aleatoria de la distribución Binomial. La distribución Binomial permite modelar los votos discretos existente en la mayoría de los sistemas de recomendación.\n",
    "\n",
    "Más allá de las matemáticas, debemos comprender que este modelo representa mejor un sistema de recomendación que otras implementaciones de la factorización matricial. La mayoría de modelos asumen una distribución normal de las votaciones al optimizar una función en base al error cuadrático medio. Por contra, BNMF asume que los votos de los usuarios son discretos y finitos, tal y como sucede cuando realizamos votaciones en una escala de 1 a 5 estrellas.\n"
   ]
  },
  {
   "cell_type": "markdown",
   "metadata": {
    "colab_type": "text",
    "id": "WlQR5g2CntZT"
   },
   "source": [
    "## Entrenamiento del modelo\n",
    "\n",
    "Debido a las características bayesianas del modelo, el proceso de entrenamiento no puede realizarse mediante la técnica del descenso del gradiente. En su lugar se emplea inferencia variacional para obtener el conjunto de ecuaciones necesarias para ajustar los valores de los factores a los datos de entrenamiento.\n",
    "\n",
    "Los factores de los usuarios se representan mediante el carácter $a$ y se calculan de acuerdo con la siguiente ecuación:\n",
    "\n",
    "$$a_{u,k}=\\frac {\\gamma_{u,k}} {\\sum_{f=1..K} \\gamma_{u,f}}$$\n",
    "\n",
    "Donde $\\gamma_{u,k}$ se calcula:\n",
    "\n",
    "$$\\gamma_{u,k} = \\alpha + \\sum_{\\{i | r_{u,i} \\neq \\bullet \\}} \\lambda_{u,i,k}$$\n",
    "\n",
    "Los factores de los usuarios se representan mediante el carácter $b$ y se calculan de acuerdo con la siguiente ecuación:\n",
    "\n",
    "$$b_{k,i} = \\frac{\\epsilon_{i,k}^+}{\\epsilon_{i,k}^+ + \\epsilon_{i,k}^-}$$\n",
    "\n",
    "Donde $\\epsilon_{i,k}^+$ y $\\epsilon_{i,k}^-$ se calculan:\n",
    "\n",
    "$$\\epsilon_{i,k}^+ = \\beta + \\sum_{\\{i | r_{u,i} \\neq \\bullet \\}} \\lambda_{u,i,k} \\cdot r_{u,i}^+$$\n",
    "\n",
    "$$\\epsilon_{i,k}^- = \\beta + \\sum_{\\{i | r_{u,i} \\neq \\bullet \\}} \\lambda_{u,i,k} \\cdot r_{u,i}^-$$\n",
    "\n",
    "Verificándose que:\n",
    "\n",
    "$$r_{u,i}^+ = R \\cdot r_{u,i}^*$$\n",
    "\n",
    "$$r_{u,i}^- = R \\cdot (1 - r_{u,i}^*)$$\n",
    "\n",
    "Donde $r_{u,i}^*$ es el voto del usuario $u$ al item $i$ normalizado.\n",
    "\n",
    "Todas las anteriores ecuaciones dependen del valor de $\\lambda_{u,i,k}$, el cual puede calcularse como:\n",
    "\n",
    "$$\\lambda_{u,i,k} = \\frac {\\lambda_{u,i,k}^\\prime} {\\lambda_{u,i,1}^\\prime + \\cdots + \\lambda_{u,i,K}^\\prime}$$\n",
    "\n",
    "$$\\lambda_{u,i,k}^\\prime = exp( \\Psi(\\gamma_{u,k}) + r_{u,i}^+ \\cdot \\Psi(\\epsilon_{i,k}^+) +  r_{u,i}^- \\cdot \\Psi(\\epsilon_{i,k}^-) - R \\cdot \\Psi(\\epsilon_{i,k}^+ + \\epsilon_{i,k}^-))$$\n",
    "\n",
    "Siendo $\\Psi la función diggama definida como la derivada logarítmica de la función gamma.\n",
    "\n",
    "Dadas estas ecuaciones, el algoritmo de entrenamiento quedaría del siguiente modo:\n",
    "\n",
    "\n",
    "```\n",
    "Iniciar aleatoriamente los valores de $\\gamma_{u,k}$\n",
    "Iniciar aleatoriamente los valores de $\\epsilon_{i,k}^+$\n",
    "Iniciar aleatoriamente los valores de $\\epsilon_{i,k}^-$\n",
    "\n",
    "Iterar hasta la convergencia:\n",
    "\n",
    "    Para cada usuario $u$:\n",
    "        Para cada item $i$ votado por el usuario $u$:\n",
    "            Para cada factor $k$:\n",
    "                Actualizar $\\lambda_{u,k,i}$\n",
    "                \n",
    "    Para cada usuario $u$:\n",
    "        Para cada factor $k$:\n",
    "            Actualizar $\\gamma_{u,k}$\n",
    "            \n",
    "        Para cada item $i$ votado por el usuario $u$:\n",
    "            Para cada factor $k$:\n",
    "                Actualizar $\\epsilon_{i,k}^+$\n",
    "                Actualizar $\\epsilon_{i,k}^-$\n",
    "\n",
    "Calcular $a_{u,k}$\n",
    "Calcular $b_{i,k}$\n",
    "```\n",
    "\n",
    "Una vez entrenando el modelo la predicción del voto del usuario $u$ al item $i$ puede calcularse como:\n",
    "\n",
    "$$\\hat{r}_{u,i} = \\sum_{k=1..K} a_{u,k} \\cdot b_{i,k}$$\n",
    "\n",
    "Téngase en cuenta que esta predicción estará normalizada.\n",
    "\n",
    "Veamos cómo hacer esto con código.\n"
   ]
  },
  {
   "cell_type": "markdown",
   "metadata": {
    "colab_type": "text",
    "id": "YZSFkDqsuLes"
   },
   "source": [
    "## Carga del dataset\n",
    "\n",
    "Para ilustrar mejor el funcionamiento el algoritmo BNMF, vamos a desarrollar una implementación del mismo.\n",
    "\n",
    "Para ello usaremos el dataset de [MovieLens 100K](https://grouplens.org/datasets/movielens/) que contiene 100.000 votos de 943 usuarios sobre 1682 películas. Este dataset ha sido dividido en votaciones de entrenamiento (80%) y votaciones de test (20%). Además, los códigos de usuarios e items, han sido modificados para que comience en 0 y terminen en el número de (usuarios / items) - 1.\n"
   ]
  },
  {
   "cell_type": "markdown",
   "metadata": {
    "colab_type": "text",
    "id": "9yhGC0WIuORP"
   },
   "source": [
    "Inicialmente definimos algunas constantes que nos serán necesarias durante la codificación del algoritmo:"
   ]
  },
  {
   "cell_type": "code",
   "execution_count": 1,
   "metadata": {
    "colab": {},
    "colab_type": "code",
    "id": "7pXAbayjuSqc"
   },
   "outputs": [],
   "source": [
    "import urllib\n",
    "import random\n",
    "from scipy.special import digamma\n",
    "from math import exp"
   ]
  },
  {
   "cell_type": "code",
   "execution_count": 13,
   "metadata": {},
   "outputs": [],
   "source": [
    "import pandas as pd\n",
    "\n",
    "df_train = pd.read_csv('train.csv', sep=',', index_col=False)\n",
    "df_test = pd.read_csv('test.csv', sep=',', index_col=False)\n"
   ]
  },
  {
   "cell_type": "code",
   "execution_count": 3,
   "metadata": {},
   "outputs": [
    {
     "data": {
      "text/html": [
       "<div>\n",
       "<style scoped>\n",
       "    .dataframe tbody tr th:only-of-type {\n",
       "        vertical-align: middle;\n",
       "    }\n",
       "\n",
       "    .dataframe tbody tr th {\n",
       "        vertical-align: top;\n",
       "    }\n",
       "\n",
       "    .dataframe thead th {\n",
       "        text-align: right;\n",
       "    }\n",
       "</style>\n",
       "<table border=\"1\" class=\"dataframe\">\n",
       "  <thead>\n",
       "    <tr style=\"text-align: right;\">\n",
       "      <th></th>\n",
       "      <th>user</th>\n",
       "      <th>item</th>\n",
       "      <th>rating</th>\n",
       "    </tr>\n",
       "  </thead>\n",
       "  <tbody>\n",
       "    <tr>\n",
       "      <th>0</th>\n",
       "      <td>1</td>\n",
       "      <td>25715</td>\n",
       "      <td>7.0</td>\n",
       "    </tr>\n",
       "    <tr>\n",
       "      <th>1</th>\n",
       "      <td>1</td>\n",
       "      <td>25716</td>\n",
       "      <td>10.0</td>\n",
       "    </tr>\n",
       "    <tr>\n",
       "      <th>2</th>\n",
       "      <td>5</td>\n",
       "      <td>25851</td>\n",
       "      <td>9.0</td>\n",
       "    </tr>\n",
       "    <tr>\n",
       "      <th>3</th>\n",
       "      <td>6</td>\n",
       "      <td>25923</td>\n",
       "      <td>5.0</td>\n",
       "    </tr>\n",
       "    <tr>\n",
       "      <th>4</th>\n",
       "      <td>7</td>\n",
       "      <td>25924</td>\n",
       "      <td>6.0</td>\n",
       "    </tr>\n",
       "  </tbody>\n",
       "</table>\n",
       "</div>"
      ],
      "text/plain": [
       "   user   item  rating\n",
       "0     1  25715     7.0\n",
       "1     1  25716    10.0\n",
       "2     5  25851     9.0\n",
       "3     6  25923     5.0\n",
       "4     7  25924     6.0"
      ]
     },
     "execution_count": 3,
     "metadata": {},
     "output_type": "execute_result"
    }
   ],
   "source": [
    "df_train.head(5)"
   ]
  },
  {
   "cell_type": "code",
   "execution_count": 9,
   "metadata": {},
   "outputs": [
    {
     "data": {
      "text/plain": [
       "73456"
      ]
     },
     "execution_count": 9,
     "metadata": {},
     "output_type": "execute_result"
    }
   ],
   "source": [
    "len(df_train['user'].unique())"
   ]
  },
  {
   "cell_type": "code",
   "execution_count": 10,
   "metadata": {},
   "outputs": [
    {
     "data": {
      "text/plain": [
       "array([ 7., 10.,  9.,  5.,  6.,  8.,  3.,  4.,  1.,  2.])"
      ]
     },
     "execution_count": 10,
     "metadata": {},
     "output_type": "execute_result"
    }
   ],
   "source": [
    "df_train['rating'].unique()"
   ]
  },
  {
   "cell_type": "code",
   "execution_count": 4,
   "metadata": {
    "colab": {},
    "colab_type": "code",
    "id": "tNuX_hVEuQe5"
   },
   "outputs": [],
   "source": [
    "NUM_USERS = len(df_train['user'].unique())\n",
    "NUM_ITEMS = len(df_train['item'].unique())\n",
    "\n",
    "MIN_RATING = 1\n",
    "MAX_RATING = 10"
   ]
  },
  {
   "cell_type": "code",
   "execution_count": 5,
   "metadata": {},
   "outputs": [
    {
     "name": "stdout",
     "output_type": "stream",
     "text": [
      "<class 'pandas.core.frame.DataFrame'>\n",
      "RangeIndex: 390351 entries, 0 to 390350\n",
      "Data columns (total 3 columns):\n",
      " #   Column  Non-Null Count   Dtype  \n",
      "---  ------  --------------   -----  \n",
      " 0   user    390351 non-null  int64  \n",
      " 1   item    390351 non-null  int64  \n",
      " 2   rating  390351 non-null  float64\n",
      "dtypes: float64(1), int64(2)\n",
      "memory usage: 8.9 MB\n"
     ]
    }
   ],
   "source": [
    "df_train.info()"
   ]
  },
  {
   "cell_type": "code",
   "execution_count": 15,
   "metadata": {},
   "outputs": [],
   "source": [
    "df_train['rating'] = df_train['rating'].astype('int64')"
   ]
  },
  {
   "cell_type": "code",
   "execution_count": 21,
   "metadata": {},
   "outputs": [
    {
     "ename": "KeyError",
     "evalue": "'rating'",
     "output_type": "error",
     "traceback": [
      "\u001b[1;31m---------------------------------------------------------------------------\u001b[0m",
      "\u001b[1;31mKeyError\u001b[0m                                  Traceback (most recent call last)",
      "File \u001b[1;32mc:\\Users\\34627\\anaconda3\\Lib\\site-packages\\pandas\\core\\indexes\\base.py:3805\u001b[0m, in \u001b[0;36mIndex.get_loc\u001b[1;34m(self, key)\u001b[0m\n\u001b[0;32m   3804\u001b[0m \u001b[38;5;28;01mtry\u001b[39;00m:\n\u001b[1;32m-> 3805\u001b[0m     \u001b[38;5;28;01mreturn\u001b[39;00m \u001b[38;5;28mself\u001b[39m\u001b[38;5;241m.\u001b[39m_engine\u001b[38;5;241m.\u001b[39mget_loc(casted_key)\n\u001b[0;32m   3806\u001b[0m \u001b[38;5;28;01mexcept\u001b[39;00m \u001b[38;5;167;01mKeyError\u001b[39;00m \u001b[38;5;28;01mas\u001b[39;00m err:\n",
      "File \u001b[1;32mindex.pyx:167\u001b[0m, in \u001b[0;36mpandas._libs.index.IndexEngine.get_loc\u001b[1;34m()\u001b[0m\n",
      "File \u001b[1;32mindex.pyx:196\u001b[0m, in \u001b[0;36mpandas._libs.index.IndexEngine.get_loc\u001b[1;34m()\u001b[0m\n",
      "File \u001b[1;32mpandas\\\\_libs\\\\hashtable_class_helper.pxi:7081\u001b[0m, in \u001b[0;36mpandas._libs.hashtable.PyObjectHashTable.get_item\u001b[1;34m()\u001b[0m\n",
      "File \u001b[1;32mpandas\\\\_libs\\\\hashtable_class_helper.pxi:7089\u001b[0m, in \u001b[0;36mpandas._libs.hashtable.PyObjectHashTable.get_item\u001b[1;34m()\u001b[0m\n",
      "\u001b[1;31mKeyError\u001b[0m: 'rating'",
      "\nThe above exception was the direct cause of the following exception:\n",
      "\u001b[1;31mKeyError\u001b[0m                                  Traceback (most recent call last)",
      "Cell \u001b[1;32mIn[21], line 1\u001b[0m\n\u001b[1;32m----> 1\u001b[0m rating_matrix \u001b[38;5;241m=\u001b[39m df_train\u001b[38;5;241m.\u001b[39mset_index([\u001b[38;5;124m'\u001b[39m\u001b[38;5;124muser\u001b[39m\u001b[38;5;124m'\u001b[39m, \u001b[38;5;124m'\u001b[39m\u001b[38;5;124mitem\u001b[39m\u001b[38;5;124m'\u001b[39m, \u001b[38;5;124m'\u001b[39m\u001b[38;5;124mrating\u001b[39m\u001b[38;5;124m'\u001b[39m])[\u001b[38;5;124m\"\u001b[39m\u001b[38;5;124mrating\u001b[39m\u001b[38;5;124m\"\u001b[39m]\u001b[38;5;241m.\u001b[39munstack()\n\u001b[0;32m      2\u001b[0m rating_matrix\n",
      "File \u001b[1;32mc:\\Users\\34627\\anaconda3\\Lib\\site-packages\\pandas\\core\\frame.py:4102\u001b[0m, in \u001b[0;36mDataFrame.__getitem__\u001b[1;34m(self, key)\u001b[0m\n\u001b[0;32m   4100\u001b[0m \u001b[38;5;28;01mif\u001b[39;00m \u001b[38;5;28mself\u001b[39m\u001b[38;5;241m.\u001b[39mcolumns\u001b[38;5;241m.\u001b[39mnlevels \u001b[38;5;241m>\u001b[39m \u001b[38;5;241m1\u001b[39m:\n\u001b[0;32m   4101\u001b[0m     \u001b[38;5;28;01mreturn\u001b[39;00m \u001b[38;5;28mself\u001b[39m\u001b[38;5;241m.\u001b[39m_getitem_multilevel(key)\n\u001b[1;32m-> 4102\u001b[0m indexer \u001b[38;5;241m=\u001b[39m \u001b[38;5;28mself\u001b[39m\u001b[38;5;241m.\u001b[39mcolumns\u001b[38;5;241m.\u001b[39mget_loc(key)\n\u001b[0;32m   4103\u001b[0m \u001b[38;5;28;01mif\u001b[39;00m is_integer(indexer):\n\u001b[0;32m   4104\u001b[0m     indexer \u001b[38;5;241m=\u001b[39m [indexer]\n",
      "File \u001b[1;32mc:\\Users\\34627\\anaconda3\\Lib\\site-packages\\pandas\\core\\indexes\\base.py:3812\u001b[0m, in \u001b[0;36mIndex.get_loc\u001b[1;34m(self, key)\u001b[0m\n\u001b[0;32m   3807\u001b[0m     \u001b[38;5;28;01mif\u001b[39;00m \u001b[38;5;28misinstance\u001b[39m(casted_key, \u001b[38;5;28mslice\u001b[39m) \u001b[38;5;129;01mor\u001b[39;00m (\n\u001b[0;32m   3808\u001b[0m         \u001b[38;5;28misinstance\u001b[39m(casted_key, abc\u001b[38;5;241m.\u001b[39mIterable)\n\u001b[0;32m   3809\u001b[0m         \u001b[38;5;129;01mand\u001b[39;00m \u001b[38;5;28many\u001b[39m(\u001b[38;5;28misinstance\u001b[39m(x, \u001b[38;5;28mslice\u001b[39m) \u001b[38;5;28;01mfor\u001b[39;00m x \u001b[38;5;129;01min\u001b[39;00m casted_key)\n\u001b[0;32m   3810\u001b[0m     ):\n\u001b[0;32m   3811\u001b[0m         \u001b[38;5;28;01mraise\u001b[39;00m InvalidIndexError(key)\n\u001b[1;32m-> 3812\u001b[0m     \u001b[38;5;28;01mraise\u001b[39;00m \u001b[38;5;167;01mKeyError\u001b[39;00m(key) \u001b[38;5;28;01mfrom\u001b[39;00m \u001b[38;5;21;01merr\u001b[39;00m\n\u001b[0;32m   3813\u001b[0m \u001b[38;5;28;01mexcept\u001b[39;00m \u001b[38;5;167;01mTypeError\u001b[39;00m:\n\u001b[0;32m   3814\u001b[0m     \u001b[38;5;66;03m# If we have a listlike key, _check_indexing_error will raise\u001b[39;00m\n\u001b[0;32m   3815\u001b[0m     \u001b[38;5;66;03m#  InvalidIndexError. Otherwise we fall through and re-raise\u001b[39;00m\n\u001b[0;32m   3816\u001b[0m     \u001b[38;5;66;03m#  the TypeError.\u001b[39;00m\n\u001b[0;32m   3817\u001b[0m     \u001b[38;5;28mself\u001b[39m\u001b[38;5;241m.\u001b[39m_check_indexing_error(key)\n",
      "\u001b[1;31mKeyError\u001b[0m: 'rating'"
     ]
    }
   ],
   "source": [
    "rating_matrix = df_train.set_index(['user', 'item', 'rating'])[\"rating\"].unstack()\n",
    "rating_matrix"
   ]
  },
  {
   "cell_type": "code",
   "execution_count": 23,
   "metadata": {},
   "outputs": [
    {
     "data": {
      "text/plain": [
       "Index(['user', 'item', 'rating'], dtype='object')"
      ]
     },
     "execution_count": 23,
     "metadata": {},
     "output_type": "execute_result"
    }
   ],
   "source": [
    "df_train.columns"
   ]
  },
  {
   "cell_type": "code",
   "execution_count": 17,
   "metadata": {},
   "outputs": [
    {
     "name": "stdout",
     "output_type": "stream",
     "text": [
      "<class 'pandas.core.frame.DataFrame'>\n",
      "RangeIndex: 390351 entries, 0 to 390350\n",
      "Data columns (total 3 columns):\n",
      " #   Column  Non-Null Count   Dtype\n",
      "---  ------  --------------   -----\n",
      " 0   user    390351 non-null  int64\n",
      " 1   item    390351 non-null  int64\n",
      " 2   rating  390351 non-null  int64\n",
      "dtypes: int64(3)\n",
      "memory usage: 8.9 MB\n"
     ]
    }
   ],
   "source": [
    "df_train.info()"
   ]
  },
  {
   "cell_type": "code",
   "execution_count": 20,
   "metadata": {},
   "outputs": [
    {
     "name": "stdout",
     "output_type": "stream",
     "text": [
      "0\n"
     ]
    }
   ],
   "source": [
    "print(df_train.duplicated(subset=['user', 'item']).sum())"
   ]
  },
  {
   "cell_type": "code",
   "execution_count": 19,
   "metadata": {},
   "outputs": [
    {
     "name": "stderr",
     "output_type": "stream",
     "text": [
      "c:\\Users\\34627\\anaconda3\\Lib\\site-packages\\pandas\\core\\reshape\\reshape.py:143: RuntimeWarning: overflow encountered in scalar multiply\n",
      "  num_cells = num_rows * num_columns\n"
     ]
    },
    {
     "ename": "ValueError",
     "evalue": "negative dimensions are not allowed",
     "output_type": "error",
     "traceback": [
      "\u001b[1;31m---------------------------------------------------------------------------\u001b[0m",
      "\u001b[1;31mValueError\u001b[0m                                Traceback (most recent call last)",
      "Cell \u001b[1;32mIn[19], line 1\u001b[0m\n\u001b[1;32m----> 1\u001b[0m ratings_matrix \u001b[38;5;241m=\u001b[39m df_train\u001b[38;5;241m.\u001b[39mpivot_table(index\u001b[38;5;241m=\u001b[39m\u001b[38;5;124m'\u001b[39m\u001b[38;5;124muser\u001b[39m\u001b[38;5;124m'\u001b[39m, columns\u001b[38;5;241m=\u001b[39m\u001b[38;5;124m'\u001b[39m\u001b[38;5;124mitem\u001b[39m\u001b[38;5;124m'\u001b[39m, values\u001b[38;5;241m=\u001b[39m\u001b[38;5;124m'\u001b[39m\u001b[38;5;124mrating\u001b[39m\u001b[38;5;124m'\u001b[39m, aggfunc\u001b[38;5;241m=\u001b[39m\u001b[38;5;124m'\u001b[39m\u001b[38;5;124mmean\u001b[39m\u001b[38;5;124m'\u001b[39m)\n",
      "File \u001b[1;32mc:\\Users\\34627\\anaconda3\\Lib\\site-packages\\pandas\\core\\frame.py:9509\u001b[0m, in \u001b[0;36mDataFrame.pivot_table\u001b[1;34m(self, values, index, columns, aggfunc, fill_value, margins, dropna, margins_name, observed, sort)\u001b[0m\n\u001b[0;32m   9492\u001b[0m \u001b[38;5;129m@Substitution\u001b[39m(\u001b[38;5;124m\"\u001b[39m\u001b[38;5;124m\"\u001b[39m)\n\u001b[0;32m   9493\u001b[0m \u001b[38;5;129m@Appender\u001b[39m(_shared_docs[\u001b[38;5;124m\"\u001b[39m\u001b[38;5;124mpivot_table\u001b[39m\u001b[38;5;124m\"\u001b[39m])\n\u001b[0;32m   9494\u001b[0m \u001b[38;5;28;01mdef\u001b[39;00m \u001b[38;5;21mpivot_table\u001b[39m(\n\u001b[1;32m   (...)\u001b[0m\n\u001b[0;32m   9505\u001b[0m     sort: \u001b[38;5;28mbool\u001b[39m \u001b[38;5;241m=\u001b[39m \u001b[38;5;28;01mTrue\u001b[39;00m,\n\u001b[0;32m   9506\u001b[0m ) \u001b[38;5;241m-\u001b[39m\u001b[38;5;241m>\u001b[39m DataFrame:\n\u001b[0;32m   9507\u001b[0m     \u001b[38;5;28;01mfrom\u001b[39;00m \u001b[38;5;21;01mpandas\u001b[39;00m\u001b[38;5;21;01m.\u001b[39;00m\u001b[38;5;21;01mcore\u001b[39;00m\u001b[38;5;21;01m.\u001b[39;00m\u001b[38;5;21;01mreshape\u001b[39;00m\u001b[38;5;21;01m.\u001b[39;00m\u001b[38;5;21;01mpivot\u001b[39;00m \u001b[38;5;28;01mimport\u001b[39;00m pivot_table\n\u001b[1;32m-> 9509\u001b[0m     \u001b[38;5;28;01mreturn\u001b[39;00m pivot_table(\n\u001b[0;32m   9510\u001b[0m         \u001b[38;5;28mself\u001b[39m,\n\u001b[0;32m   9511\u001b[0m         values\u001b[38;5;241m=\u001b[39mvalues,\n\u001b[0;32m   9512\u001b[0m         index\u001b[38;5;241m=\u001b[39mindex,\n\u001b[0;32m   9513\u001b[0m         columns\u001b[38;5;241m=\u001b[39mcolumns,\n\u001b[0;32m   9514\u001b[0m         aggfunc\u001b[38;5;241m=\u001b[39maggfunc,\n\u001b[0;32m   9515\u001b[0m         fill_value\u001b[38;5;241m=\u001b[39mfill_value,\n\u001b[0;32m   9516\u001b[0m         margins\u001b[38;5;241m=\u001b[39mmargins,\n\u001b[0;32m   9517\u001b[0m         dropna\u001b[38;5;241m=\u001b[39mdropna,\n\u001b[0;32m   9518\u001b[0m         margins_name\u001b[38;5;241m=\u001b[39mmargins_name,\n\u001b[0;32m   9519\u001b[0m         observed\u001b[38;5;241m=\u001b[39mobserved,\n\u001b[0;32m   9520\u001b[0m         sort\u001b[38;5;241m=\u001b[39msort,\n\u001b[0;32m   9521\u001b[0m     )\n",
      "File \u001b[1;32mc:\\Users\\34627\\anaconda3\\Lib\\site-packages\\pandas\\core\\reshape\\pivot.py:102\u001b[0m, in \u001b[0;36mpivot_table\u001b[1;34m(data, values, index, columns, aggfunc, fill_value, margins, dropna, margins_name, observed, sort)\u001b[0m\n\u001b[0;32m     99\u001b[0m     table \u001b[38;5;241m=\u001b[39m concat(pieces, keys\u001b[38;5;241m=\u001b[39mkeys, axis\u001b[38;5;241m=\u001b[39m\u001b[38;5;241m1\u001b[39m)\n\u001b[0;32m    100\u001b[0m     \u001b[38;5;28;01mreturn\u001b[39;00m table\u001b[38;5;241m.\u001b[39m__finalize__(data, method\u001b[38;5;241m=\u001b[39m\u001b[38;5;124m\"\u001b[39m\u001b[38;5;124mpivot_table\u001b[39m\u001b[38;5;124m\"\u001b[39m)\n\u001b[1;32m--> 102\u001b[0m table \u001b[38;5;241m=\u001b[39m __internal_pivot_table(\n\u001b[0;32m    103\u001b[0m     data,\n\u001b[0;32m    104\u001b[0m     values,\n\u001b[0;32m    105\u001b[0m     index,\n\u001b[0;32m    106\u001b[0m     columns,\n\u001b[0;32m    107\u001b[0m     aggfunc,\n\u001b[0;32m    108\u001b[0m     fill_value,\n\u001b[0;32m    109\u001b[0m     margins,\n\u001b[0;32m    110\u001b[0m     dropna,\n\u001b[0;32m    111\u001b[0m     margins_name,\n\u001b[0;32m    112\u001b[0m     observed,\n\u001b[0;32m    113\u001b[0m     sort,\n\u001b[0;32m    114\u001b[0m )\n\u001b[0;32m    115\u001b[0m \u001b[38;5;28;01mreturn\u001b[39;00m table\u001b[38;5;241m.\u001b[39m__finalize__(data, method\u001b[38;5;241m=\u001b[39m\u001b[38;5;124m\"\u001b[39m\u001b[38;5;124mpivot_table\u001b[39m\u001b[38;5;124m\"\u001b[39m)\n",
      "File \u001b[1;32mc:\\Users\\34627\\anaconda3\\Lib\\site-packages\\pandas\\core\\reshape\\pivot.py:203\u001b[0m, in \u001b[0;36m__internal_pivot_table\u001b[1;34m(data, values, index, columns, aggfunc, fill_value, margins, dropna, margins_name, observed, sort)\u001b[0m\n\u001b[0;32m    201\u001b[0m         \u001b[38;5;28;01melse\u001b[39;00m:\n\u001b[0;32m    202\u001b[0m             to_unstack\u001b[38;5;241m.\u001b[39mappend(name)\n\u001b[1;32m--> 203\u001b[0m     table \u001b[38;5;241m=\u001b[39m agged\u001b[38;5;241m.\u001b[39munstack(to_unstack, fill_value\u001b[38;5;241m=\u001b[39mfill_value)\n\u001b[0;32m    205\u001b[0m \u001b[38;5;28;01mif\u001b[39;00m \u001b[38;5;129;01mnot\u001b[39;00m dropna:\n\u001b[0;32m    206\u001b[0m     \u001b[38;5;28;01mif\u001b[39;00m \u001b[38;5;28misinstance\u001b[39m(table\u001b[38;5;241m.\u001b[39mindex, MultiIndex):\n",
      "File \u001b[1;32mc:\\Users\\34627\\anaconda3\\Lib\\site-packages\\pandas\\core\\frame.py:9928\u001b[0m, in \u001b[0;36mDataFrame.unstack\u001b[1;34m(self, level, fill_value, sort)\u001b[0m\n\u001b[0;32m   9864\u001b[0m \u001b[38;5;250m\u001b[39m\u001b[38;5;124;03m\"\"\"\u001b[39;00m\n\u001b[0;32m   9865\u001b[0m \u001b[38;5;124;03mPivot a level of the (necessarily hierarchical) index labels.\u001b[39;00m\n\u001b[0;32m   9866\u001b[0m \n\u001b[1;32m   (...)\u001b[0m\n\u001b[0;32m   9924\u001b[0m \u001b[38;5;124;03mdtype: float64\u001b[39;00m\n\u001b[0;32m   9925\u001b[0m \u001b[38;5;124;03m\"\"\"\u001b[39;00m\n\u001b[0;32m   9926\u001b[0m \u001b[38;5;28;01mfrom\u001b[39;00m \u001b[38;5;21;01mpandas\u001b[39;00m\u001b[38;5;21;01m.\u001b[39;00m\u001b[38;5;21;01mcore\u001b[39;00m\u001b[38;5;21;01m.\u001b[39;00m\u001b[38;5;21;01mreshape\u001b[39;00m\u001b[38;5;21;01m.\u001b[39;00m\u001b[38;5;21;01mreshape\u001b[39;00m \u001b[38;5;28;01mimport\u001b[39;00m unstack\n\u001b[1;32m-> 9928\u001b[0m result \u001b[38;5;241m=\u001b[39m unstack(\u001b[38;5;28mself\u001b[39m, level, fill_value, sort)\n\u001b[0;32m   9930\u001b[0m \u001b[38;5;28;01mreturn\u001b[39;00m result\u001b[38;5;241m.\u001b[39m__finalize__(\u001b[38;5;28mself\u001b[39m, method\u001b[38;5;241m=\u001b[39m\u001b[38;5;124m\"\u001b[39m\u001b[38;5;124munstack\u001b[39m\u001b[38;5;124m\"\u001b[39m)\n",
      "File \u001b[1;32mc:\\Users\\34627\\anaconda3\\Lib\\site-packages\\pandas\\core\\reshape\\reshape.py:504\u001b[0m, in \u001b[0;36munstack\u001b[1;34m(obj, level, fill_value, sort)\u001b[0m\n\u001b[0;32m    502\u001b[0m \u001b[38;5;28;01mif\u001b[39;00m \u001b[38;5;28misinstance\u001b[39m(obj, DataFrame):\n\u001b[0;32m    503\u001b[0m     \u001b[38;5;28;01mif\u001b[39;00m \u001b[38;5;28misinstance\u001b[39m(obj\u001b[38;5;241m.\u001b[39mindex, MultiIndex):\n\u001b[1;32m--> 504\u001b[0m         \u001b[38;5;28;01mreturn\u001b[39;00m _unstack_frame(obj, level, fill_value\u001b[38;5;241m=\u001b[39mfill_value, sort\u001b[38;5;241m=\u001b[39msort)\n\u001b[0;32m    505\u001b[0m     \u001b[38;5;28;01melse\u001b[39;00m:\n\u001b[0;32m    506\u001b[0m         \u001b[38;5;28;01mreturn\u001b[39;00m obj\u001b[38;5;241m.\u001b[39mT\u001b[38;5;241m.\u001b[39mstack(future_stack\u001b[38;5;241m=\u001b[39m\u001b[38;5;28;01mTrue\u001b[39;00m)\n",
      "File \u001b[1;32mc:\\Users\\34627\\anaconda3\\Lib\\site-packages\\pandas\\core\\reshape\\reshape.py:529\u001b[0m, in \u001b[0;36m_unstack_frame\u001b[1;34m(obj, level, fill_value, sort)\u001b[0m\n\u001b[0;32m    525\u001b[0m \u001b[38;5;28;01mdef\u001b[39;00m \u001b[38;5;21m_unstack_frame\u001b[39m(\n\u001b[0;32m    526\u001b[0m     obj: DataFrame, level, fill_value\u001b[38;5;241m=\u001b[39m\u001b[38;5;28;01mNone\u001b[39;00m, sort: \u001b[38;5;28mbool\u001b[39m \u001b[38;5;241m=\u001b[39m \u001b[38;5;28;01mTrue\u001b[39;00m\n\u001b[0;32m    527\u001b[0m ) \u001b[38;5;241m-\u001b[39m\u001b[38;5;241m>\u001b[39m DataFrame:\n\u001b[0;32m    528\u001b[0m     \u001b[38;5;28;01massert\u001b[39;00m \u001b[38;5;28misinstance\u001b[39m(obj\u001b[38;5;241m.\u001b[39mindex, MultiIndex)  \u001b[38;5;66;03m# checked by caller\u001b[39;00m\n\u001b[1;32m--> 529\u001b[0m     unstacker \u001b[38;5;241m=\u001b[39m _Unstacker(\n\u001b[0;32m    530\u001b[0m         obj\u001b[38;5;241m.\u001b[39mindex, level\u001b[38;5;241m=\u001b[39mlevel, constructor\u001b[38;5;241m=\u001b[39mobj\u001b[38;5;241m.\u001b[39m_constructor, sort\u001b[38;5;241m=\u001b[39msort\n\u001b[0;32m    531\u001b[0m     )\n\u001b[0;32m    533\u001b[0m     \u001b[38;5;28;01mif\u001b[39;00m \u001b[38;5;129;01mnot\u001b[39;00m obj\u001b[38;5;241m.\u001b[39m_can_fast_transpose:\n\u001b[0;32m    534\u001b[0m         mgr \u001b[38;5;241m=\u001b[39m obj\u001b[38;5;241m.\u001b[39m_mgr\u001b[38;5;241m.\u001b[39munstack(unstacker, fill_value\u001b[38;5;241m=\u001b[39mfill_value)\n",
      "File \u001b[1;32mc:\\Users\\34627\\anaconda3\\Lib\\site-packages\\pandas\\core\\reshape\\reshape.py:154\u001b[0m, in \u001b[0;36m_Unstacker.__init__\u001b[1;34m(self, index, level, constructor, sort)\u001b[0m\n\u001b[0;32m    146\u001b[0m \u001b[38;5;28;01mif\u001b[39;00m num_cells \u001b[38;5;241m>\u001b[39m np\u001b[38;5;241m.\u001b[39miinfo(np\u001b[38;5;241m.\u001b[39mint32)\u001b[38;5;241m.\u001b[39mmax:\n\u001b[0;32m    147\u001b[0m     warnings\u001b[38;5;241m.\u001b[39mwarn(\n\u001b[0;32m    148\u001b[0m         \u001b[38;5;124mf\u001b[39m\u001b[38;5;124m\"\u001b[39m\u001b[38;5;124mThe following operation may generate \u001b[39m\u001b[38;5;132;01m{\u001b[39;00mnum_cells\u001b[38;5;132;01m}\u001b[39;00m\u001b[38;5;124m cells \u001b[39m\u001b[38;5;124m\"\u001b[39m\n\u001b[0;32m    149\u001b[0m         \u001b[38;5;124mf\u001b[39m\u001b[38;5;124m\"\u001b[39m\u001b[38;5;124min the resulting pandas object.\u001b[39m\u001b[38;5;124m\"\u001b[39m,\n\u001b[0;32m    150\u001b[0m         PerformanceWarning,\n\u001b[0;32m    151\u001b[0m         stacklevel\u001b[38;5;241m=\u001b[39mfind_stack_level(),\n\u001b[0;32m    152\u001b[0m     )\n\u001b[1;32m--> 154\u001b[0m \u001b[38;5;28mself\u001b[39m\u001b[38;5;241m.\u001b[39m_make_selectors()\n",
      "File \u001b[1;32mc:\\Users\\34627\\anaconda3\\Lib\\site-packages\\pandas\\core\\reshape\\reshape.py:206\u001b[0m, in \u001b[0;36m_Unstacker._make_selectors\u001b[1;34m(self)\u001b[0m\n\u001b[0;32m    203\u001b[0m \u001b[38;5;28mself\u001b[39m\u001b[38;5;241m.\u001b[39mfull_shape \u001b[38;5;241m=\u001b[39m ngroups, stride\n\u001b[0;32m    205\u001b[0m selector \u001b[38;5;241m=\u001b[39m \u001b[38;5;28mself\u001b[39m\u001b[38;5;241m.\u001b[39msorted_labels[\u001b[38;5;241m-\u001b[39m\u001b[38;5;241m1\u001b[39m] \u001b[38;5;241m+\u001b[39m stride \u001b[38;5;241m*\u001b[39m comp_index \u001b[38;5;241m+\u001b[39m \u001b[38;5;28mself\u001b[39m\u001b[38;5;241m.\u001b[39mlift\n\u001b[1;32m--> 206\u001b[0m mask \u001b[38;5;241m=\u001b[39m np\u001b[38;5;241m.\u001b[39mzeros(np\u001b[38;5;241m.\u001b[39mprod(\u001b[38;5;28mself\u001b[39m\u001b[38;5;241m.\u001b[39mfull_shape), dtype\u001b[38;5;241m=\u001b[39m\u001b[38;5;28mbool\u001b[39m)\n\u001b[0;32m    207\u001b[0m mask\u001b[38;5;241m.\u001b[39mput(selector, \u001b[38;5;28;01mTrue\u001b[39;00m)\n\u001b[0;32m    209\u001b[0m \u001b[38;5;28;01mif\u001b[39;00m mask\u001b[38;5;241m.\u001b[39msum() \u001b[38;5;241m<\u001b[39m \u001b[38;5;28mlen\u001b[39m(\u001b[38;5;28mself\u001b[39m\u001b[38;5;241m.\u001b[39mindex):\n",
      "\u001b[1;31mValueError\u001b[0m: negative dimensions are not allowed"
     ]
    }
   ],
   "source": [
    "ratings_matrix = df_train.pivot_table(index='user', columns='item', values='rating', aggfunc='mean')\n"
   ]
  },
  {
   "cell_type": "code",
   "execution_count": 7,
   "metadata": {},
   "outputs": [],
   "source": [
    "n_train = df_train.to_numpy()\n",
    "n_test = df_test.to_numpy()"
   ]
  },
  {
   "cell_type": "code",
   "execution_count": 12,
   "metadata": {},
   "outputs": [
    {
     "data": {
      "text/html": [
       "<div>\n",
       "<style scoped>\n",
       "    .dataframe tbody tr th:only-of-type {\n",
       "        vertical-align: middle;\n",
       "    }\n",
       "\n",
       "    .dataframe tbody tr th {\n",
       "        vertical-align: top;\n",
       "    }\n",
       "\n",
       "    .dataframe thead th {\n",
       "        text-align: right;\n",
       "    }\n",
       "</style>\n",
       "<table border=\"1\" class=\"dataframe\">\n",
       "  <thead>\n",
       "    <tr style=\"text-align: right;\">\n",
       "      <th></th>\n",
       "      <th>user</th>\n",
       "      <th>item</th>\n",
       "      <th>rating</th>\n",
       "    </tr>\n",
       "  </thead>\n",
       "  <tbody>\n",
       "    <tr>\n",
       "      <th>0</th>\n",
       "      <td>1</td>\n",
       "      <td>25715</td>\n",
       "      <td>7</td>\n",
       "    </tr>\n",
       "    <tr>\n",
       "      <th>1</th>\n",
       "      <td>1</td>\n",
       "      <td>25716</td>\n",
       "      <td>10</td>\n",
       "    </tr>\n",
       "    <tr>\n",
       "      <th>2</th>\n",
       "      <td>5</td>\n",
       "      <td>25851</td>\n",
       "      <td>9</td>\n",
       "    </tr>\n",
       "    <tr>\n",
       "      <th>3</th>\n",
       "      <td>6</td>\n",
       "      <td>25923</td>\n",
       "      <td>5</td>\n",
       "    </tr>\n",
       "    <tr>\n",
       "      <th>4</th>\n",
       "      <td>7</td>\n",
       "      <td>25924</td>\n",
       "      <td>6</td>\n",
       "    </tr>\n",
       "  </tbody>\n",
       "</table>\n",
       "</div>"
      ],
      "text/plain": [
       "   user   item  rating\n",
       "0     1  25715       7\n",
       "1     1  25716      10\n",
       "2     5  25851       9\n",
       "3     6  25923       5\n",
       "4     7  25924       6"
      ]
     },
     "execution_count": 12,
     "metadata": {},
     "output_type": "execute_result"
    }
   ],
   "source": [
    "df_train.head(5)"
   ]
  },
  {
   "cell_type": "code",
   "execution_count": null,
   "metadata": {},
   "outputs": [],
   "source": [
    "df_train.drop()"
   ]
  },
  {
   "cell_type": "code",
   "execution_count": 16,
   "metadata": {},
   "outputs": [
    {
     "name": "stderr",
     "output_type": "stream",
     "text": [
      "c:\\Users\\34627\\anaconda3\\Lib\\site-packages\\pandas\\core\\reshape\\reshape.py:143: RuntimeWarning: overflow encountered in scalar multiply\n",
      "  num_cells = num_rows * num_columns\n"
     ]
    },
    {
     "ename": "ValueError",
     "evalue": "negative dimensions are not allowed",
     "output_type": "error",
     "traceback": [
      "\u001b[1;31m---------------------------------------------------------------------------\u001b[0m",
      "\u001b[1;31mValueError\u001b[0m                                Traceback (most recent call last)",
      "Cell \u001b[1;32mIn[16], line 1\u001b[0m\n\u001b[1;32m----> 1\u001b[0m ratings \u001b[38;5;241m=\u001b[39m df_train\u001b[38;5;241m.\u001b[39mpivot(index\u001b[38;5;241m=\u001b[39m\u001b[38;5;124m'\u001b[39m\u001b[38;5;124muser\u001b[39m\u001b[38;5;124m'\u001b[39m, columns\u001b[38;5;241m=\u001b[39m\u001b[38;5;124m'\u001b[39m\u001b[38;5;124mitem\u001b[39m\u001b[38;5;124m'\u001b[39m, values\u001b[38;5;241m=\u001b[39m\u001b[38;5;124m'\u001b[39m\u001b[38;5;124mrating\u001b[39m\u001b[38;5;124m'\u001b[39m)\n\u001b[0;32m      2\u001b[0m ratings\u001b[38;5;241m.\u001b[39mhead(\u001b[38;5;241m10\u001b[39m)\n",
      "File \u001b[1;32mc:\\Users\\34627\\anaconda3\\Lib\\site-packages\\pandas\\core\\frame.py:9339\u001b[0m, in \u001b[0;36mDataFrame.pivot\u001b[1;34m(self, columns, index, values)\u001b[0m\n\u001b[0;32m   9332\u001b[0m \u001b[38;5;129m@Substitution\u001b[39m(\u001b[38;5;124m\"\u001b[39m\u001b[38;5;124m\"\u001b[39m)\n\u001b[0;32m   9333\u001b[0m \u001b[38;5;129m@Appender\u001b[39m(_shared_docs[\u001b[38;5;124m\"\u001b[39m\u001b[38;5;124mpivot\u001b[39m\u001b[38;5;124m\"\u001b[39m])\n\u001b[0;32m   9334\u001b[0m \u001b[38;5;28;01mdef\u001b[39;00m \u001b[38;5;21mpivot\u001b[39m(\n\u001b[0;32m   9335\u001b[0m     \u001b[38;5;28mself\u001b[39m, \u001b[38;5;241m*\u001b[39m, columns, index\u001b[38;5;241m=\u001b[39mlib\u001b[38;5;241m.\u001b[39mno_default, values\u001b[38;5;241m=\u001b[39mlib\u001b[38;5;241m.\u001b[39mno_default\n\u001b[0;32m   9336\u001b[0m ) \u001b[38;5;241m-\u001b[39m\u001b[38;5;241m>\u001b[39m DataFrame:\n\u001b[0;32m   9337\u001b[0m     \u001b[38;5;28;01mfrom\u001b[39;00m \u001b[38;5;21;01mpandas\u001b[39;00m\u001b[38;5;21;01m.\u001b[39;00m\u001b[38;5;21;01mcore\u001b[39;00m\u001b[38;5;21;01m.\u001b[39;00m\u001b[38;5;21;01mreshape\u001b[39;00m\u001b[38;5;21;01m.\u001b[39;00m\u001b[38;5;21;01mpivot\u001b[39;00m \u001b[38;5;28;01mimport\u001b[39;00m pivot\n\u001b[1;32m-> 9339\u001b[0m     \u001b[38;5;28;01mreturn\u001b[39;00m pivot(\u001b[38;5;28mself\u001b[39m, index\u001b[38;5;241m=\u001b[39mindex, columns\u001b[38;5;241m=\u001b[39mcolumns, values\u001b[38;5;241m=\u001b[39mvalues)\n",
      "File \u001b[1;32mc:\\Users\\34627\\anaconda3\\Lib\\site-packages\\pandas\\core\\reshape\\pivot.py:570\u001b[0m, in \u001b[0;36mpivot\u001b[1;34m(data, columns, index, values)\u001b[0m\n\u001b[0;32m    566\u001b[0m         indexed \u001b[38;5;241m=\u001b[39m data\u001b[38;5;241m.\u001b[39m_constructor_sliced(data[values]\u001b[38;5;241m.\u001b[39m_values, index\u001b[38;5;241m=\u001b[39mmultiindex)\n\u001b[0;32m    567\u001b[0m \u001b[38;5;66;03m# error: Argument 1 to \"unstack\" of \"DataFrame\" has incompatible type \"Union\u001b[39;00m\n\u001b[0;32m    568\u001b[0m \u001b[38;5;66;03m# [List[Any], ExtensionArray, ndarray[Any, Any], Index, Series]\"; expected\u001b[39;00m\n\u001b[0;32m    569\u001b[0m \u001b[38;5;66;03m# \"Hashable\"\u001b[39;00m\n\u001b[1;32m--> 570\u001b[0m result \u001b[38;5;241m=\u001b[39m indexed\u001b[38;5;241m.\u001b[39munstack(columns_listlike)  \u001b[38;5;66;03m# type: ignore[arg-type]\u001b[39;00m\n\u001b[0;32m    571\u001b[0m result\u001b[38;5;241m.\u001b[39mindex\u001b[38;5;241m.\u001b[39mnames \u001b[38;5;241m=\u001b[39m [\n\u001b[0;32m    572\u001b[0m     name \u001b[38;5;28;01mif\u001b[39;00m name \u001b[38;5;129;01mis\u001b[39;00m \u001b[38;5;129;01mnot\u001b[39;00m lib\u001b[38;5;241m.\u001b[39mno_default \u001b[38;5;28;01melse\u001b[39;00m \u001b[38;5;28;01mNone\u001b[39;00m \u001b[38;5;28;01mfor\u001b[39;00m name \u001b[38;5;129;01min\u001b[39;00m result\u001b[38;5;241m.\u001b[39mindex\u001b[38;5;241m.\u001b[39mnames\n\u001b[0;32m    573\u001b[0m ]\n\u001b[0;32m    575\u001b[0m \u001b[38;5;28;01mreturn\u001b[39;00m result\n",
      "File \u001b[1;32mc:\\Users\\34627\\anaconda3\\Lib\\site-packages\\pandas\\core\\series.py:4615\u001b[0m, in \u001b[0;36mSeries.unstack\u001b[1;34m(self, level, fill_value, sort)\u001b[0m\n\u001b[0;32m   4570\u001b[0m \u001b[38;5;250m\u001b[39m\u001b[38;5;124;03m\"\"\"\u001b[39;00m\n\u001b[0;32m   4571\u001b[0m \u001b[38;5;124;03mUnstack, also known as pivot, Series with MultiIndex to produce DataFrame.\u001b[39;00m\n\u001b[0;32m   4572\u001b[0m \n\u001b[1;32m   (...)\u001b[0m\n\u001b[0;32m   4611\u001b[0m \u001b[38;5;124;03mb    2    4\u001b[39;00m\n\u001b[0;32m   4612\u001b[0m \u001b[38;5;124;03m\"\"\"\u001b[39;00m\n\u001b[0;32m   4613\u001b[0m \u001b[38;5;28;01mfrom\u001b[39;00m \u001b[38;5;21;01mpandas\u001b[39;00m\u001b[38;5;21;01m.\u001b[39;00m\u001b[38;5;21;01mcore\u001b[39;00m\u001b[38;5;21;01m.\u001b[39;00m\u001b[38;5;21;01mreshape\u001b[39;00m\u001b[38;5;21;01m.\u001b[39;00m\u001b[38;5;21;01mreshape\u001b[39;00m \u001b[38;5;28;01mimport\u001b[39;00m unstack\n\u001b[1;32m-> 4615\u001b[0m \u001b[38;5;28;01mreturn\u001b[39;00m unstack(\u001b[38;5;28mself\u001b[39m, level, fill_value, sort)\n",
      "File \u001b[1;32mc:\\Users\\34627\\anaconda3\\Lib\\site-packages\\pandas\\core\\reshape\\reshape.py:517\u001b[0m, in \u001b[0;36munstack\u001b[1;34m(obj, level, fill_value, sort)\u001b[0m\n\u001b[0;32m    515\u001b[0m \u001b[38;5;28;01mif\u001b[39;00m is_1d_only_ea_dtype(obj\u001b[38;5;241m.\u001b[39mdtype):\n\u001b[0;32m    516\u001b[0m     \u001b[38;5;28;01mreturn\u001b[39;00m _unstack_extension_series(obj, level, fill_value, sort\u001b[38;5;241m=\u001b[39msort)\n\u001b[1;32m--> 517\u001b[0m unstacker \u001b[38;5;241m=\u001b[39m _Unstacker(\n\u001b[0;32m    518\u001b[0m     obj\u001b[38;5;241m.\u001b[39mindex, level\u001b[38;5;241m=\u001b[39mlevel, constructor\u001b[38;5;241m=\u001b[39mobj\u001b[38;5;241m.\u001b[39m_constructor_expanddim, sort\u001b[38;5;241m=\u001b[39msort\n\u001b[0;32m    519\u001b[0m )\n\u001b[0;32m    520\u001b[0m \u001b[38;5;28;01mreturn\u001b[39;00m unstacker\u001b[38;5;241m.\u001b[39mget_result(\n\u001b[0;32m    521\u001b[0m     obj\u001b[38;5;241m.\u001b[39m_values, value_columns\u001b[38;5;241m=\u001b[39m\u001b[38;5;28;01mNone\u001b[39;00m, fill_value\u001b[38;5;241m=\u001b[39mfill_value\n\u001b[0;32m    522\u001b[0m )\n",
      "File \u001b[1;32mc:\\Users\\34627\\anaconda3\\Lib\\site-packages\\pandas\\core\\reshape\\reshape.py:154\u001b[0m, in \u001b[0;36m_Unstacker.__init__\u001b[1;34m(self, index, level, constructor, sort)\u001b[0m\n\u001b[0;32m    146\u001b[0m \u001b[38;5;28;01mif\u001b[39;00m num_cells \u001b[38;5;241m>\u001b[39m np\u001b[38;5;241m.\u001b[39miinfo(np\u001b[38;5;241m.\u001b[39mint32)\u001b[38;5;241m.\u001b[39mmax:\n\u001b[0;32m    147\u001b[0m     warnings\u001b[38;5;241m.\u001b[39mwarn(\n\u001b[0;32m    148\u001b[0m         \u001b[38;5;124mf\u001b[39m\u001b[38;5;124m\"\u001b[39m\u001b[38;5;124mThe following operation may generate \u001b[39m\u001b[38;5;132;01m{\u001b[39;00mnum_cells\u001b[38;5;132;01m}\u001b[39;00m\u001b[38;5;124m cells \u001b[39m\u001b[38;5;124m\"\u001b[39m\n\u001b[0;32m    149\u001b[0m         \u001b[38;5;124mf\u001b[39m\u001b[38;5;124m\"\u001b[39m\u001b[38;5;124min the resulting pandas object.\u001b[39m\u001b[38;5;124m\"\u001b[39m,\n\u001b[0;32m    150\u001b[0m         PerformanceWarning,\n\u001b[0;32m    151\u001b[0m         stacklevel\u001b[38;5;241m=\u001b[39mfind_stack_level(),\n\u001b[0;32m    152\u001b[0m     )\n\u001b[1;32m--> 154\u001b[0m \u001b[38;5;28mself\u001b[39m\u001b[38;5;241m.\u001b[39m_make_selectors()\n",
      "File \u001b[1;32mc:\\Users\\34627\\anaconda3\\Lib\\site-packages\\pandas\\core\\reshape\\reshape.py:206\u001b[0m, in \u001b[0;36m_Unstacker._make_selectors\u001b[1;34m(self)\u001b[0m\n\u001b[0;32m    203\u001b[0m \u001b[38;5;28mself\u001b[39m\u001b[38;5;241m.\u001b[39mfull_shape \u001b[38;5;241m=\u001b[39m ngroups, stride\n\u001b[0;32m    205\u001b[0m selector \u001b[38;5;241m=\u001b[39m \u001b[38;5;28mself\u001b[39m\u001b[38;5;241m.\u001b[39msorted_labels[\u001b[38;5;241m-\u001b[39m\u001b[38;5;241m1\u001b[39m] \u001b[38;5;241m+\u001b[39m stride \u001b[38;5;241m*\u001b[39m comp_index \u001b[38;5;241m+\u001b[39m \u001b[38;5;28mself\u001b[39m\u001b[38;5;241m.\u001b[39mlift\n\u001b[1;32m--> 206\u001b[0m mask \u001b[38;5;241m=\u001b[39m np\u001b[38;5;241m.\u001b[39mzeros(np\u001b[38;5;241m.\u001b[39mprod(\u001b[38;5;28mself\u001b[39m\u001b[38;5;241m.\u001b[39mfull_shape), dtype\u001b[38;5;241m=\u001b[39m\u001b[38;5;28mbool\u001b[39m)\n\u001b[0;32m    207\u001b[0m mask\u001b[38;5;241m.\u001b[39mput(selector, \u001b[38;5;28;01mTrue\u001b[39;00m)\n\u001b[0;32m    209\u001b[0m \u001b[38;5;28;01mif\u001b[39;00m mask\u001b[38;5;241m.\u001b[39msum() \u001b[38;5;241m<\u001b[39m \u001b[38;5;28mlen\u001b[39m(\u001b[38;5;28mself\u001b[39m\u001b[38;5;241m.\u001b[39mindex):\n",
      "\u001b[1;31mValueError\u001b[0m: negative dimensions are not allowed"
     ]
    }
   ],
   "source": [
    "ratings = df_train.pivot(index='user', columns='item', values='rating')\n",
    "ratings.head(10)"
   ]
  },
  {
   "cell_type": "markdown",
   "metadata": {
    "colab_type": "text",
    "id": "ycfkDZZDuVkq"
   },
   "source": [
    "Y cargamos el dataset:"
   ]
  },
  {
   "cell_type": "code",
   "execution_count": null,
   "metadata": {
    "colab": {},
    "colab_type": "code",
    "id": "C7S5kGa1uSKU"
   },
   "outputs": [],
   "source": [
    "ratings = [[None for _ in range(NUM_ITEMS)] for _ in range(NUM_USERS)] \n",
    "\n",
    "training_file = urllib.request.urlopen(\"https://drive.google.com/uc?export=view&id=1S4-sxOEvA3MDivaGf7iFirWqt1H6VtaH\")\n",
    "for line in training_file:\n",
    "  [u, i, rating] = line.decode(\"utf-8\").split(\"::\")\n",
    "  ratings[int(u)][int(i)] = int(rating)"
   ]
  },
  {
   "cell_type": "code",
   "execution_count": 24,
   "metadata": {},
   "outputs": [
    {
     "ename": "MemoryError",
     "evalue": "",
     "output_type": "error",
     "traceback": [
      "\u001b[1;31m---------------------------------------------------------------------------\u001b[0m",
      "\u001b[1;31mMemoryError\u001b[0m                               Traceback (most recent call last)",
      "Cell \u001b[1;32mIn[24], line 11\u001b[0m\n\u001b[0;32m      8\u001b[0m NUM_ITEMS \u001b[38;5;241m=\u001b[39m df[\u001b[38;5;124m'\u001b[39m\u001b[38;5;124mitem\u001b[39m\u001b[38;5;124m'\u001b[39m]\u001b[38;5;241m.\u001b[39mmax() \u001b[38;5;241m+\u001b[39m \u001b[38;5;241m1\u001b[39m  \u001b[38;5;66;03m# Asumimos que los IDs de item empiezan desde 0 o 1\u001b[39;00m\n\u001b[0;32m     10\u001b[0m \u001b[38;5;66;03m# 3️⃣ Crear matriz de ratings con None\u001b[39;00m\n\u001b[1;32m---> 11\u001b[0m ratings \u001b[38;5;241m=\u001b[39m [[\u001b[38;5;28;01mNone\u001b[39;00m \u001b[38;5;28;01mfor\u001b[39;00m _ \u001b[38;5;129;01min\u001b[39;00m \u001b[38;5;28mrange\u001b[39m(NUM_ITEMS)] \u001b[38;5;28;01mfor\u001b[39;00m _ \u001b[38;5;129;01min\u001b[39;00m \u001b[38;5;28mrange\u001b[39m(NUM_USERS)]\n\u001b[0;32m     13\u001b[0m \u001b[38;5;66;03m# 4️⃣ Rellenar la matriz con los valores de rating\u001b[39;00m\n\u001b[0;32m     14\u001b[0m \u001b[38;5;28;01mfor\u001b[39;00m _, row \u001b[38;5;129;01min\u001b[39;00m df\u001b[38;5;241m.\u001b[39miterrows():\n",
      "\u001b[1;31mMemoryError\u001b[0m: "
     ]
    }
   ],
   "source": [
    "import pandas as pd\n",
    "\n",
    "# 1️⃣ Leer el CSV en un DataFrame\n",
    "df = pd.read_csv(\"train.csv\")  # Asegúrate de que el archivo está en la misma carpeta o usa la ruta completa\n",
    "\n",
    "# 2️⃣ Obtener el número máximo de usuarios e ítems (para definir la matriz)\n",
    "NUM_USERS = df['user'].max() + 1  # Asumimos que los IDs de usuario empiezan desde 0 o 1\n",
    "NUM_ITEMS = df['item'].max() + 1  # Asumimos que los IDs de item empiezan desde 0 o 1\n",
    "\n",
    "# 3️⃣ Crear matriz de ratings con None\n",
    "ratings = [[None for _ in range(NUM_ITEMS)] for _ in range(NUM_USERS)]\n",
    "\n",
    "# 4️⃣ Rellenar la matriz con los valores de rating\n",
    "for _, row in df.iterrows():\n",
    "    u, i, rating = int(row['user']), int(row['item']), float(row['rating'])\n",
    "    ratings[u][i] = rating  # Asignamos el rating en la posición [usuario][item]\n",
    "\n",
    "# 5️⃣ (Opcional) Reemplazar None con 0 si deseas manejar la ausencia de datos\n",
    "ratings = [[0 if x is None else x for x in row] for row in ratings]\n",
    "\n",
    "# 6️⃣ (Opcional) Convertir la matriz a DataFrame de Pandas para verla mejor\n",
    "ratings_df = pd.DataFrame(ratings)\n",
    "\n",
    "# Mostrar la matriz\n",
    "print(ratings_df)\n"
   ]
  },
  {
   "cell_type": "markdown",
   "metadata": {
    "colab_type": "text",
    "id": "Qr4uRdaqua7Q"
   },
   "source": [
    "Del mismo modo, cargamos la matriz de votaciones de test:"
   ]
  },
  {
   "cell_type": "code",
   "execution_count": null,
   "metadata": {
    "colab": {},
    "colab_type": "code",
    "id": "6e5qWLRRucaO"
   },
   "outputs": [],
   "source": [
    "test_ratings = [[None for _ in range(NUM_ITEMS)] for _ in range(NUM_USERS)] \n",
    "\n",
    "test_file = urllib.request.urlopen(\"https://drive.google.com/uc?export=view&id=1LBgTF57DD2NA-petq_FaC1V-h7nrYIh9\")\n",
    "for line in test_file:\n",
    "  [u, i, rating] = line.decode(\"utf-8\").split(\"::\")\n",
    "  test_ratings[int(u)][int(i)] = int(rating)"
   ]
  },
  {
   "cell_type": "markdown",
   "metadata": {
    "colab_type": "text",
    "id": "YpG1RK15uld0"
   },
   "source": [
    "## Entrenamiento del modelo\n",
    "\n",
    "Veamos cómo podemos aplicar las fórmulas anteriores para entrenar el modelo.\n"
   ]
  },
  {
   "cell_type": "markdown",
   "metadata": {
    "colab_type": "text",
    "id": "iSb2-aXCurQy"
   },
   "source": [
    "Primero, definimos los parámetros del modelo:"
   ]
  },
  {
   "cell_type": "code",
   "execution_count": 21,
   "metadata": {
    "colab": {},
    "colab_type": "code",
    "id": "T-V28H_juQ-X"
   },
   "outputs": [],
   "source": [
    "NUM_FACTORS = 5\n",
    "ALPHA = 0.8\n",
    "BETA = 5\n",
    "R = 4"
   ]
  },
  {
   "cell_type": "markdown",
   "metadata": {
    "colab_type": "text",
    "id": "5FV38gxWuQ-Z"
   },
   "source": [
    "Inicializamos las matrices $\\gamma$, $\\epsilon^+$ y $\\epsilon^-$ necesarias para el cálculo de los factores con valores uniformes aleatorios en el intervalo \\[0, 1)."
   ]
  },
  {
   "cell_type": "code",
   "execution_count": 22,
   "metadata": {
    "colab": {},
    "colab_type": "code",
    "id": "7wCL1avRuQ-a"
   },
   "outputs": [],
   "source": [
    "gamma = [[random.random() for _ in range(NUM_FACTORS)] for _ in range(NUM_USERS)] \n",
    "ep = [[random.random() for _ in range(NUM_FACTORS)] for _ in range(NUM_ITEMS)] \n",
    "em = [[random.random() for _ in range(NUM_FACTORS)] for _ in range(NUM_ITEMS)] "
   ]
  },
  {
   "cell_type": "markdown",
   "metadata": {
    "colab_type": "text",
    "id": "EWJUu6UAuQ-b"
   },
   "source": [
    "Vamos a hacer que el modelo aprenda. Ejecutamos tantas veces como iteraciones haya la actualización de los factores. Para ello, recorremos el conjunto de votos y vamos haciendo las actualizaciones correspondientes."
   ]
  },
  {
   "cell_type": "code",
   "execution_count": 23,
   "metadata": {
    "colab": {},
    "colab_type": "code",
    "id": "1Q21B9BQWIGS"
   },
   "outputs": [],
   "source": [
    "NUM_ITERATIONS = 5"
   ]
  },
  {
   "cell_type": "code",
   "execution_count": null,
   "metadata": {
    "colab": {
     "base_uri": "https://localhost:8080/",
     "height": 107
    },
    "colab_type": "code",
    "executionInfo": {
     "elapsed": 35227,
     "status": "ok",
     "timestamp": 1558733447067,
     "user": {
      "displayName": "Fernando Ortega Requena",
      "photoUrl": "https://lh5.googleusercontent.com/-t9XtZoyOrPU/AAAAAAAAAAI/AAAAAAAAA2I/muQCKCLOQqk/s64/photo.jpg",
      "userId": "02003917424124170753"
     },
     "user_tz": -120
    },
    "id": "wqfRa1ThuQ-c",
    "outputId": "12b32b48-d140-4b54-95ea-f878a9d2a515"
   },
   "outputs": [
    {
     "name": "stdout",
     "output_type": "stream",
     "text": [
      "Iteración 1 de 5\n"
     ]
    }
   ],
   "source": [
    "for it in range(NUM_ITERATIONS):\n",
    "  print(\"Iteración \" + str(it + 1) + \" de \" + str(NUM_ITERATIONS))\n",
    "  \n",
    "  # Calculamos lambda\n",
    "  \n",
    "  lmbda = [[[0 for _ in range(NUM_FACTORS)] for _ in range(NUM_ITEMS)] for _ in range(NUM_USERS)]\n",
    "    \n",
    "  for u in range(NUM_USERS):\n",
    "    for i in range(NUM_ITEMS):\n",
    "      if ratings[u][i] != None:\n",
    "        \n",
    "        r = (ratings[u][i] - MIN_RATING) / (MAX_RATING - MIN_RATING)\n",
    "        \n",
    "        rp = R * r\n",
    "        rm = R * (1 - r)\n",
    "               \n",
    "        for k in range(NUM_FACTORS):                        \n",
    "          lmbda[u][i][k] = exp(\n",
    "            digamma(gamma[u][k]) +\n",
    "            rp * digamma(ep[i][k]) + \n",
    "            rm * digamma(em[i][k]) -\n",
    "            R * digamma(ep[i][k] + em[i][k])\n",
    "          )\n",
    "                                        \n",
    "        for k in range(NUM_FACTORS):\n",
    "          lmbda[u][i][k] = lmbda[u][i][k] / sum(lmbda[u][i])\n",
    "  \n",
    "  # Reinicioamos gamma, epsilon+ y epsilon-\n",
    "  \n",
    "  gamma = [[ALPHA for _ in range(NUM_FACTORS)] for _ in range(NUM_USERS)] \n",
    "  ep = [[BETA for _ in range(NUM_FACTORS)] for _ in range(NUM_ITEMS)] \n",
    "  em = [[BETA for _ in range(NUM_FACTORS)] for _ in range(NUM_ITEMS)]  \n",
    "  \n",
    "  \n",
    "  # Actualizamos\n",
    "  \n",
    "  for u in range(NUM_USERS):\n",
    "    for i in range(NUM_ITEMS):\n",
    "      if ratings[u][i] != None:\n",
    "        \n",
    "        r = (ratings[u][i] - MIN_RATING) / (MAX_RATING - MIN_RATING)\n",
    "        \n",
    "        rp = R * r\n",
    "        rm = R * (1 - r)\n",
    "        \n",
    "        for k in range(NUM_FACTORS):\n",
    "          gamma[u][k] += lmbda[u][i][k]\n",
    "        \n",
    "          ep[i][k] += lmbda[u][i][k] * rp\n",
    "          em[i][k] += lmbda[u][i][k] * rm"
   ]
  },
  {
   "cell_type": "markdown",
   "metadata": {
    "colab_type": "text",
    "id": "pCvcLKPHv2Np"
   },
   "source": [
    "Ahora podemos calcular los factores:"
   ]
  },
  {
   "cell_type": "code",
   "execution_count": null,
   "metadata": {
    "colab": {},
    "colab_type": "code",
    "id": "PSCn7H2Sv38i"
   },
   "outputs": [],
   "source": [
    "a = [[0 for _ in range(NUM_FACTORS)] for _ in range(NUM_USERS)] \n",
    "\n",
    "for u in range(NUM_USERS):\n",
    "  for k in range(NUM_FACTORS):\n",
    "    a[u][k] = gamma[u][k] / sum(gamma[u])"
   ]
  },
  {
   "cell_type": "code",
   "execution_count": null,
   "metadata": {
    "colab": {},
    "colab_type": "code",
    "id": "g5rgFop9wdtV"
   },
   "outputs": [],
   "source": [
    "b = [[0 for _ in range(NUM_FACTORS)] for _ in range(NUM_ITEMS)]\n",
    "\n",
    "for i in range(NUM_ITEMS):\n",
    "  for k in range(NUM_FACTORS):\n",
    "    b[i][k] = ep[i][k] / (ep[i][k] + em[i][k])"
   ]
  },
  {
   "cell_type": "markdown",
   "metadata": {
    "colab_type": "text",
    "id": "bMCnjpicLA5d"
   },
   "source": [
    "## Cálculo de las predicciones\n",
    "\n",
    "Como hemos comentado, calcular la predicción del voto del usuario *u* al item *i* implicar realizar el producto escalar de sus vectores de factores. La siguiente función realiza esta operación:\n"
   ]
  },
  {
   "cell_type": "code",
   "execution_count": null,
   "metadata": {
    "colab": {},
    "colab_type": "code",
    "id": "8CtE4DRXLHHX"
   },
   "outputs": [],
   "source": [
    "def compute_prediction (a_u, b_i):\n",
    "  prediction = 0\n",
    "  for k in range(NUM_FACTORS):\n",
    "    prediction += a_u[k] * b_i[k]\n",
    "  return prediction * (MAX_RATING - MIN_RATING) + MIN_RATING"
   ]
  },
  {
   "cell_type": "markdown",
   "metadata": {
    "colab_type": "text",
    "id": "RwLhJQRcLT0A"
   },
   "source": [
    "## Cálculo de las recomendaciones\n",
    "\n",
    "El cálculo de las recomendaciones, por lo general, simplemente implica seleccionar los *N* items con una predicción más alta. Por ejemplo, si quisiéramos recomendar *N = 3* items a un usuario que tuviera las siguientes predicciones:\n",
    "\n",
    "|   \t| i1 \t| i2 \t| i3 \t| i4 \t| i5 \t| i6 \t| i7 \t| i8 \t| i9 \t| i10 \t|\n",
    "|:-:\t|:--:\t|:--:\t|:--:\t|:--:\t|:--:\t|:--:\t|:--:\t|:--:\t|:--:\t|-----\t|\n",
    "| u \t|   \t|  2,9 \t|    \t|  4,7 \t|  5,0 \t|    \t|  1,2 \t|    \t|   \t|  3,1 \t|\n",
    "\n",
    "Se le recomendarían a dicho usuario los items *i5*, *i4* e *i10*.\n"
   ]
  },
  {
   "cell_type": "markdown",
   "metadata": {
    "colab_type": "text",
    "id": "d25K5LZ8UqZE"
   },
   "source": [
    "##Cálculo del MAE\n",
    "\n",
    "En esta sección vamos a mostrar cómo calcular el error medio absoluto (MAE) de las predicciones realizadas por el algoritmo BNMF.\n",
    "\n",
    "Para ello, lo primero que debemos hacer es calcular las predicciones para todos los items que haya recibido una votación de test:"
   ]
  },
  {
   "cell_type": "code",
   "execution_count": null,
   "metadata": {
    "colab": {},
    "colab_type": "code",
    "id": "EOx7B3rwUu0i"
   },
   "outputs": [],
   "source": [
    "predictions = [[None for _ in range(NUM_ITEMS)] for _ in range(NUM_USERS)] \n",
    "\n",
    "for u in range(NUM_USERS):\n",
    "  for i in range(NUM_ITEMS):\n",
    "    if test_ratings[u][i] != None:\n",
    "      predictions[u][i] = compute_prediction(a[u], b[i])"
   ]
  },
  {
   "cell_type": "markdown",
   "metadata": {
    "colab_type": "text",
    "id": "3DROA4nXUz2M"
   },
   "source": [
    "Y, a continuación, calculamos el MAE:"
   ]
  },
  {
   "cell_type": "code",
   "execution_count": null,
   "metadata": {
    "colab": {},
    "colab_type": "code",
    "id": "VaSDJhw1U1sM"
   },
   "outputs": [],
   "source": [
    "def get_user_mae (u):\n",
    "  mae = 0\n",
    "  count = 0\n",
    "  \n",
    "  for i in range(NUM_ITEMS):\n",
    "    if test_ratings[u][i] != None and predictions[u][i] != None:\n",
    "      mae += abs(test_ratings[u][i] - predictions[u][i])\n",
    "      count += 1\n",
    "  \n",
    "  if count > 0:\n",
    "    return mae / count\n",
    "  else:\n",
    "    return None"
   ]
  },
  {
   "cell_type": "code",
   "execution_count": null,
   "metadata": {
    "colab": {},
    "colab_type": "code",
    "id": "GYi711CXU4TB"
   },
   "outputs": [],
   "source": [
    "def get_mae ():\n",
    "  mae = 0\n",
    "  count = 0\n",
    "  \n",
    "  for u in range(NUM_USERS):\n",
    "    user_mae = get_user_mae(u)\n",
    "      \n",
    "    if user_mae != None:\n",
    "      mae += user_mae\n",
    "      count += 1\n",
    "  \n",
    "  \n",
    "  if count > 0:\n",
    "    return mae / count\n",
    "  else:\n",
    "    return None   "
   ]
  },
  {
   "cell_type": "code",
   "execution_count": 15,
   "metadata": {
    "colab": {
     "base_uri": "https://localhost:8080/",
     "height": 35
    },
    "colab_type": "code",
    "executionInfo": {
     "elapsed": 35811,
     "status": "ok",
     "timestamp": 1558733447675,
     "user": {
      "displayName": "Fernando Ortega Requena",
      "photoUrl": "https://lh5.googleusercontent.com/-t9XtZoyOrPU/AAAAAAAAAAI/AAAAAAAAA2I/muQCKCLOQqk/s64/photo.jpg",
      "userId": "02003917424124170753"
     },
     "user_tz": -120
    },
    "id": "EcdujGunU569",
    "outputId": "f571ba75-b7ac-44ae-fe88-d2e2776f192d"
   },
   "outputs": [
    {
     "name": "stdout",
     "output_type": "stream",
     "text": [
      "System MAE = 0.8874933442697509\n"
     ]
    }
   ],
   "source": [
    "mae = get_mae()\n",
    "print(\"System MAE = \" + str(mae))"
   ]
  },
  {
   "cell_type": "markdown",
   "metadata": {
    "colab_type": "text",
    "id": "OAZuchyMVFgu"
   },
   "source": [
    "## Entendiendo los factores\n",
    "\n",
    "En el modelo BNMF los factores se almacenan en las matrices $a$ y $b$. Como se ha comentado anteriormente, estas matrices tienen una interpretación probabilística. De este modo:\n",
    "\n",
    "- $a_u$ representa una distribución de probabilidad que representa la probabilidad del usuario $u$ de pertenecer a cada cluster.\n",
    "\n",
    "- $b_i$ representa la probabilidad de que a un usuario del cluster $k$ le interese el item $i$."
   ]
  },
  {
   "cell_type": "markdown",
   "metadata": {
    "colab_type": "text",
    "id": "y9osKwwRViU7"
   },
   "source": [
    "## Referencias\n",
    "\n",
    "Hernando, A., Bobadilla, J., & Ortega, F. (2016). **A non negative matrix factorization for collaborative filtering recommender systems based on a Bayesian probabilistic model**. Knowledge-Based Systems, 97, 188-202."
   ]
  },
  {
   "cell_type": "markdown",
   "metadata": {
    "colab_type": "text",
    "id": "N3F5dIirf1EQ"
   },
   "source": [
    "---\n",
    "\n",
    "*Este documento ha sido desarrollado por **Fernando Ortega**. Dpto. Sistemas Informáticos, ETSI de Sistemas Informáticos, Universidad Politécnica de Madrid.*\n",
    "\n",
    "*Última actualización: Marzo de 2024*\n"
   ]
  },
  {
   "cell_type": "markdown",
   "metadata": {
    "colab_type": "text",
    "id": "zBL-nJAc_Cgs"
   },
   "source": [
    "<p xmlns:cc=\"http://creativecommons.org/ns#\" >This work is licensed under <a href=\"http://creativecommons.org/licenses/by-nc/4.0/?ref=chooser-v1\" target=\"_blank\" rel=\"license noopener noreferrer\" style=\"display:inline-block;\">CC BY-NC 4.0<img style=\"height:22px!important;margin-left:3px;vertical-align:text-bottom;\" src=\"https://mirrors.creativecommons.org/presskit/icons/cc.svg?ref=chooser-v1\"><img style=\"height:22px!important;margin-left:3px;vertical-align:text-bottom;\" src=\"https://mirrors.creativecommons.org/presskit/icons/by.svg?ref=chooser-v1\"><img style=\"height:22px!important;margin-left:3px;vertical-align:text-bottom;\" src=\"https://mirrors.creativecommons.org/presskit/icons/nc.svg?ref=chooser-v1\"></a></p>"
   ]
  }
 ],
 "metadata": {
  "colab": {
   "collapsed_sections": [],
   "name": "3.4. BNMF.ipynb",
   "provenance": [],
   "version": "0.3.2"
  },
  "kernelspec": {
   "display_name": "base",
   "language": "python",
   "name": "python3"
  },
  "language_info": {
   "codemirror_mode": {
    "name": "ipython",
    "version": 3
   },
   "file_extension": ".py",
   "mimetype": "text/x-python",
   "name": "python",
   "nbconvert_exporter": "python",
   "pygments_lexer": "ipython3",
   "version": "3.12.3"
  }
 },
 "nbformat": 4,
 "nbformat_minor": 0
}
