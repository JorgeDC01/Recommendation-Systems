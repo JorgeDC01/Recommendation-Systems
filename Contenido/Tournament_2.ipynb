{
 "cells": [
  {
   "cell_type": "markdown",
   "id": "ef06c300",
   "metadata": {},
   "source": [
    "# **Filtrado basado en Contenido**"
   ]
  },
  {
   "cell_type": "markdown",
   "id": "80fe7713",
   "metadata": {},
   "source": [
    "## Estrategias\n",
    "\n",
    "1. TF-IDF:\n",
    "    - TFIDF + LogisticRegression -  `MAE: 0.65`\n",
    "    - TFIDF + RandomForestRegression - `MAE: 0.82`\n",
    "    - TFIDF + xgboost [HACER] - `MAE: -`\n",
    "2. Doc2Vec + LogisticRegression - `MAE: 1.24`\n",
    "3. [HACER]"
   ]
  },
  {
   "cell_type": "code",
   "execution_count": 10,
   "id": "2fca7f7c",
   "metadata": {},
   "outputs": [
    {
     "name": "stdout",
     "output_type": "stream",
     "text": [
      "Note: you may need to restart the kernel to use updated packages.\n"
     ]
    }
   ],
   "source": [
    "%pip install nltk --quiet"
   ]
  },
  {
   "cell_type": "code",
   "execution_count": 1,
   "id": "f0dbcae9",
   "metadata": {},
   "outputs": [],
   "source": [
    "import pandas as pd\n",
    "from sklearn.model_selection import train_test_split, GridSearchCV\n",
    "from sklearn.ensemble import RandomForestRegressor\n",
    "from sklearn.metrics import mean_absolute_error\n",
    "from sklearn.linear_model import LogisticRegression\n",
    "from sklearn.feature_extraction.text import TfidfVectorizer\n",
    "from sklearn.metrics.pairwise import cosine_distances\n",
    "\n",
    "\n",
    "df_train = pd.read_csv(\"train_reviews.csv\", sep=\",\" , index_col=\"review_id\")"
   ]
  },
  {
   "cell_type": "code",
   "execution_count": 5,
   "id": "688c3bc6",
   "metadata": {},
   "outputs": [
    {
     "name": "stdout",
     "output_type": "stream",
     "text": [
      "<class 'pandas.core.frame.DataFrame'>\n",
      "Index: 967784 entries, ZZO43qKB-s65zplC8RfJqw to auSo_fXuICntO1hLC68tTg\n",
      "Data columns (total 8 columns):\n",
      " #   Column       Non-Null Count   Dtype  \n",
      "---  ------       --------------   -----  \n",
      " 0   user_id      967784 non-null  object \n",
      " 1   business_id  967784 non-null  object \n",
      " 2   stars        967784 non-null  float64\n",
      " 3   useful       967784 non-null  int64  \n",
      " 4   funny        967784 non-null  int64  \n",
      " 5   cool         967784 non-null  int64  \n",
      " 6   text         967784 non-null  object \n",
      " 7   date         967784 non-null  object \n",
      "dtypes: float64(1), int64(3), object(4)\n",
      "memory usage: 66.5+ MB\n"
     ]
    }
   ],
   "source": [
    "df_train.info()"
   ]
  },
  {
   "cell_type": "code",
   "execution_count": 6,
   "id": "61ee7a86",
   "metadata": {},
   "outputs": [
    {
     "data": {
      "text/html": [
       "<div>\n",
       "<style scoped>\n",
       "    .dataframe tbody tr th:only-of-type {\n",
       "        vertical-align: middle;\n",
       "    }\n",
       "\n",
       "    .dataframe tbody tr th {\n",
       "        vertical-align: top;\n",
       "    }\n",
       "\n",
       "    .dataframe thead th {\n",
       "        text-align: right;\n",
       "    }\n",
       "</style>\n",
       "<table border=\"1\" class=\"dataframe\">\n",
       "  <thead>\n",
       "    <tr style=\"text-align: right;\">\n",
       "      <th></th>\n",
       "      <th>user_id</th>\n",
       "      <th>business_id</th>\n",
       "      <th>stars</th>\n",
       "      <th>useful</th>\n",
       "      <th>funny</th>\n",
       "      <th>cool</th>\n",
       "      <th>text</th>\n",
       "      <th>date</th>\n",
       "    </tr>\n",
       "    <tr>\n",
       "      <th>review_id</th>\n",
       "      <th></th>\n",
       "      <th></th>\n",
       "      <th></th>\n",
       "      <th></th>\n",
       "      <th></th>\n",
       "      <th></th>\n",
       "      <th></th>\n",
       "      <th></th>\n",
       "    </tr>\n",
       "  </thead>\n",
       "  <tbody>\n",
       "    <tr>\n",
       "      <th>ZZO43qKB-s65zplC8RfJqw</th>\n",
       "      <td>-1BSu2dt_rOAqllw9ZDXtA</td>\n",
       "      <td>smkZq4G1AOm4V6p3id5sww</td>\n",
       "      <td>5.0</td>\n",
       "      <td>0</td>\n",
       "      <td>0</td>\n",
       "      <td>0</td>\n",
       "      <td>Fantastic fresh food. The greek salad is amazi...</td>\n",
       "      <td>2016-09-30 15:49:32</td>\n",
       "    </tr>\n",
       "    <tr>\n",
       "      <th>vojXOF_VOgvuKD95gCO8_Q</th>\n",
       "      <td>xpe178ng_gj5X6HgqtOing</td>\n",
       "      <td>96_c_7twb7hYRZ9HHrq01g</td>\n",
       "      <td>1.0</td>\n",
       "      <td>2</td>\n",
       "      <td>0</td>\n",
       "      <td>1</td>\n",
       "      <td>Been a patient at Largo Med/Diagnostic Clinic ...</td>\n",
       "      <td>2020-12-09 14:39:51</td>\n",
       "    </tr>\n",
       "    <tr>\n",
       "      <th>KwxdbiseRlIRNzpgvyjY0Q</th>\n",
       "      <td>axbaerf2Fk92OB4b9_peVA</td>\n",
       "      <td>e0AYjKfSF0DL-5C1CpOq6Q</td>\n",
       "      <td>4.0</td>\n",
       "      <td>0</td>\n",
       "      <td>0</td>\n",
       "      <td>0</td>\n",
       "      <td>The location is convenient to my campus so I d...</td>\n",
       "      <td>2013-09-04 16:19:51</td>\n",
       "    </tr>\n",
       "    <tr>\n",
       "      <th>3mwoBcTy-2gMh0L91uaIeA</th>\n",
       "      <td>_GOiybb0rImYKJfwyxEaGg</td>\n",
       "      <td>vF-uptiQ34pVLHJKzPHUlA</td>\n",
       "      <td>5.0</td>\n",
       "      <td>0</td>\n",
       "      <td>0</td>\n",
       "      <td>0</td>\n",
       "      <td>I agree with all the other compliments posted ...</td>\n",
       "      <td>2019-03-02 12:24:14</td>\n",
       "    </tr>\n",
       "    <tr>\n",
       "      <th>XfWf7XsBWs3kYyYq7Ns1ZQ</th>\n",
       "      <td>ojWKg3B5pH3ncAsxun3kUw</td>\n",
       "      <td>X28XK71RuEXPapeyUOwNzg</td>\n",
       "      <td>5.0</td>\n",
       "      <td>10</td>\n",
       "      <td>4</td>\n",
       "      <td>7</td>\n",
       "      <td>Wanting to help out the local economy, I thoug...</td>\n",
       "      <td>2020-04-23 18:26:29</td>\n",
       "    </tr>\n",
       "  </tbody>\n",
       "</table>\n",
       "</div>"
      ],
      "text/plain": [
       "                                       user_id             business_id  stars  \\\n",
       "review_id                                                                       \n",
       "ZZO43qKB-s65zplC8RfJqw  -1BSu2dt_rOAqllw9ZDXtA  smkZq4G1AOm4V6p3id5sww    5.0   \n",
       "vojXOF_VOgvuKD95gCO8_Q  xpe178ng_gj5X6HgqtOing  96_c_7twb7hYRZ9HHrq01g    1.0   \n",
       "KwxdbiseRlIRNzpgvyjY0Q  axbaerf2Fk92OB4b9_peVA  e0AYjKfSF0DL-5C1CpOq6Q    4.0   \n",
       "3mwoBcTy-2gMh0L91uaIeA  _GOiybb0rImYKJfwyxEaGg  vF-uptiQ34pVLHJKzPHUlA    5.0   \n",
       "XfWf7XsBWs3kYyYq7Ns1ZQ  ojWKg3B5pH3ncAsxun3kUw  X28XK71RuEXPapeyUOwNzg    5.0   \n",
       "\n",
       "                        useful  funny  cool  \\\n",
       "review_id                                     \n",
       "ZZO43qKB-s65zplC8RfJqw       0      0     0   \n",
       "vojXOF_VOgvuKD95gCO8_Q       2      0     1   \n",
       "KwxdbiseRlIRNzpgvyjY0Q       0      0     0   \n",
       "3mwoBcTy-2gMh0L91uaIeA       0      0     0   \n",
       "XfWf7XsBWs3kYyYq7Ns1ZQ      10      4     7   \n",
       "\n",
       "                                                                     text  \\\n",
       "review_id                                                                   \n",
       "ZZO43qKB-s65zplC8RfJqw  Fantastic fresh food. The greek salad is amazi...   \n",
       "vojXOF_VOgvuKD95gCO8_Q  Been a patient at Largo Med/Diagnostic Clinic ...   \n",
       "KwxdbiseRlIRNzpgvyjY0Q  The location is convenient to my campus so I d...   \n",
       "3mwoBcTy-2gMh0L91uaIeA  I agree with all the other compliments posted ...   \n",
       "XfWf7XsBWs3kYyYq7Ns1ZQ  Wanting to help out the local economy, I thoug...   \n",
       "\n",
       "                                       date  \n",
       "review_id                                    \n",
       "ZZO43qKB-s65zplC8RfJqw  2016-09-30 15:49:32  \n",
       "vojXOF_VOgvuKD95gCO8_Q  2020-12-09 14:39:51  \n",
       "KwxdbiseRlIRNzpgvyjY0Q  2013-09-04 16:19:51  \n",
       "3mwoBcTy-2gMh0L91uaIeA  2019-03-02 12:24:14  \n",
       "XfWf7XsBWs3kYyYq7Ns1ZQ  2020-04-23 18:26:29  "
      ]
     },
     "execution_count": 6,
     "metadata": {},
     "output_type": "execute_result"
    }
   ],
   "source": [
    "df_train.head(5)"
   ]
  },
  {
   "cell_type": "code",
   "execution_count": 2,
   "id": "a8b80db2",
   "metadata": {},
   "outputs": [],
   "source": [
    "df_train.reset_index(inplace=True)"
   ]
  },
  {
   "cell_type": "code",
   "execution_count": 8,
   "id": "bb536255",
   "metadata": {},
   "outputs": [
    {
     "data": {
      "text/plain": [
       "text\n",
       "False    967784\n",
       "Name: count, dtype: int64"
      ]
     },
     "execution_count": 8,
     "metadata": {},
     "output_type": "execute_result"
    }
   ],
   "source": [
    "df_train['text'].isna().value_counts()"
   ]
  },
  {
   "cell_type": "code",
   "execution_count": 3,
   "id": "0bbfbe59",
   "metadata": {},
   "outputs": [],
   "source": [
    "df_test = pd.read_csv(\"test_reviews.csv\", sep=\",\")"
   ]
  },
  {
   "cell_type": "markdown",
   "id": "dc1d6dc2",
   "metadata": {},
   "source": [
    "### **TFIDF**"
   ]
  },
  {
   "cell_type": "code",
   "execution_count": 10,
   "id": "3093c507",
   "metadata": {},
   "outputs": [],
   "source": [
    "# -- Tfidf elimina las stopwords\n",
    "vectorizer = TfidfVectorizer(stop_words='english', max_features=200, ngram_range=(1, 2))\n",
    "\n",
    "X_train_tfidf = vectorizer.fit_transform(df_train['text'])\n",
    "X_test_tfidf = vectorizer.transform(df_test['text'])"
   ]
  },
  {
   "cell_type": "code",
   "execution_count": null,
   "id": "5583f57f",
   "metadata": {},
   "outputs": [
    {
     "name": "stdout",
     "output_type": "stream",
     "text": [
      "Mean Absolute Error (Train Test Split): 0.6478453375491457\n"
     ]
    }
   ],
   "source": [
    "y = df_train['stars']\n",
    "\n",
    "X_train, X_test, y_train, y_test = train_test_split(X_train_tfidf, y, test_size=0.2, random_state=42)\n",
    "\n",
    "# model = RandomForestRegressor(n_estimators=100, random_state=42)\n",
    "model = LogisticRegression(max_iter=1000)\n",
    "\n",
    "model.fit(X_train, y_train)\n",
    "y_pred = model.predict(X_test)\n",
    "\n",
    "mae = mean_absolute_error(y_test, y_pred)\n",
    "print(f'Mean Absolute Error (Train Test Split): {mae}')\n",
    "\n",
    "y_pred_test = model.predict(X_test_tfidf)"
   ]
  },
  {
   "cell_type": "code",
   "execution_count": 12,
   "id": "85a1870b",
   "metadata": {},
   "outputs": [],
   "source": [
    "submission_df = pd.DataFrame({\n",
    "    'review_id': df_test['review_id'],\n",
    "    'stars': y_pred_test\n",
    "})\n",
    "\n",
    "submission_df.to_csv('prediction_tfidf_logisticReg.csv', index=False)"
   ]
  },
  {
   "cell_type": "markdown",
   "id": "ef0ecaba",
   "metadata": {},
   "source": [
    "**GridSearch** con LogisticRegression"
   ]
  },
  {
   "cell_type": "code",
   "execution_count": 14,
   "id": "f12d72bd",
   "metadata": {},
   "outputs": [
    {
     "name": "stdout",
     "output_type": "stream",
     "text": [
      "Fitting 5 folds for each of 30 candidates, totalling 150 fits\n",
      "Mejores parámetros: {'C': 100, 'max_iter': 100, 'solver': 'saga'}\n",
      "Mean Absolute Error (mejor modelo): 0.6476800115728183\n",
      "Mean Absolute Error (modelo sin optimizar): 0.6478453375491457\n"
     ]
    }
   ],
   "source": [
    "y = df_train['stars']\n",
    "X_train, X_test, y_train, y_test = train_test_split(X_train_tfidf, y, test_size=0.2, random_state=42)\n",
    "\n",
    "param_grid = {\n",
    "    'C': [0.01, 0.1, 1, 10, 100],     # Regularización\n",
    "    'solver': ['liblinear', 'saga'],  # Métodos de optimización\n",
    "    'max_iter': [100, 500, 1000],     # Número máximo de iteraciones\n",
    "}\n",
    "\n",
    "model = LogisticRegression(random_state=42)\n",
    "\n",
    "grid_search = GridSearchCV(estimator=model, param_grid=param_grid, cv=5, scoring='neg_mean_absolute_error', n_jobs=-1, verbose=1)\n",
    "\n",
    "grid_search.fit(X_train, y_train)\n",
    "\n",
    "best_model = grid_search.best_estimator_\n",
    "best_params = grid_search.best_params_\n",
    "y_pred_best = best_model.predict(X_test)\n",
    "mae_best = mean_absolute_error(y_test, y_pred_best)\n",
    "\n",
    "print(f\"Mejores parámetros: {best_params}\")\n",
    "print(f\"Mean Absolute Error (mejor modelo): {mae_best}\")\n",
    "\n",
    "# Comparacion entre el mejor modelo y uno predeterminado (sin optimizar)\n",
    "model_default = LogisticRegression(max_iter=1000, random_state=42)\n",
    "model_default.fit(X_train, y_train)\n",
    "y_pred_default = model_default.predict(X_test)\n",
    "mae_default = mean_absolute_error(y_test, y_pred_default)\n",
    "print(f\"Mean Absolute Error (modelo sin optimizar): {mae_default}\")\n",
    "\n",
    "### Predicciones\n",
    "y_pred_test = best_model.predict(X_test_tfidf)\n",
    "\n",
    "submission_df = pd.DataFrame({\n",
    "    'review_id': df_test['review_id'],  \n",
    "    'stars': y_pred_test  \n",
    "})\n",
    "\n",
    "submission_df.to_csv('prediction_tfidf_logisticReg_gridSearch.csv', index=False)"
   ]
  },
  {
   "cell_type": "code",
   "execution_count": 15,
   "id": "64de34f4",
   "metadata": {},
   "outputs": [
    {
     "name": "stdout",
     "output_type": "stream",
     "text": [
      "<class 'pandas.core.frame.DataFrame'>\n",
      "RangeIndex: 414765 entries, 0 to 414764\n",
      "Data columns (total 2 columns):\n",
      " #   Column     Non-Null Count   Dtype  \n",
      "---  ------     --------------   -----  \n",
      " 0   review_id  414765 non-null  object \n",
      " 1   stars      414765 non-null  float64\n",
      "dtypes: float64(1), object(1)\n",
      "memory usage: 6.3+ MB\n"
     ]
    }
   ],
   "source": [
    "submission_df.info()"
   ]
  },
  {
   "cell_type": "markdown",
   "id": "688704aa",
   "metadata": {},
   "source": [
    "**Con un Clasificador RandomForest**"
   ]
  },
  {
   "cell_type": "code",
   "execution_count": 4,
   "id": "4eac919e",
   "metadata": {},
   "outputs": [],
   "source": [
    "vectorizer = TfidfVectorizer(stop_words='english', max_features=100, ngram_range=(1, 2))\n",
    "\n",
    "X_train_tfidf = vectorizer.fit_transform(df_train['text'])\n",
    "X_test_tfidf = vectorizer.transform(df_test['text'])"
   ]
  },
  {
   "cell_type": "code",
   "execution_count": 5,
   "id": "c0cf850a",
   "metadata": {},
   "outputs": [
    {
     "name": "stdout",
     "output_type": "stream",
     "text": [
      "Mean Absolute Error (Train Test Split): 0.824586461717978\n"
     ]
    }
   ],
   "source": [
    "### Con RandomForest\n",
    "y = df_train['stars']\n",
    "\n",
    "X_train, X_test, y_train, y_test = train_test_split(X_train_tfidf, y, test_size=0.2, random_state=42)\n",
    "\n",
    "model = RandomForestRegressor(n_estimators=10, random_state=42, n_jobs=-1)\n",
    "\n",
    "model.fit(X_train, y_train)\n",
    "y_pred = model.predict(X_test)\n",
    "\n",
    "mae = mean_absolute_error(y_test, y_pred)\n",
    "print(f'Mean Absolute Error (Train Test Split): {mae}')\n",
    "\n",
    "y_pred_test = model.predict(X_test_tfidf)\n",
    "\n",
    "submission_df = pd.DataFrame({\n",
    "    'review_id': df_test['review_id'],\n",
    "    'stars': y_pred_test\n",
    "})\n",
    "\n",
    "submission_df.to_csv('prediction_tfidf_randomForest.csv', index=False)"
   ]
  },
  {
   "cell_type": "markdown",
   "id": "63ee1641",
   "metadata": {},
   "source": [
    "### **Doc2Vec**\n",
    "Enlace: https://spotintelligence.com/2023/09/06/doc2vec/"
   ]
  },
  {
   "cell_type": "code",
   "execution_count": null,
   "id": "a8ab8ef7",
   "metadata": {},
   "outputs": [],
   "source": [
    "%pip install scipy==1.12 # necesario para solucionar el error: ImportError: cannot import name 'triu' from 'scipy.linalg' (c:\\Users\\34627\\anaconda3\\Lib\\site-packages\\scipy\\linalg\\__init__.py)"
   ]
  },
  {
   "cell_type": "code",
   "execution_count": 4,
   "id": "e7d38121",
   "metadata": {},
   "outputs": [
    {
     "name": "stdout",
     "output_type": "stream",
     "text": [
      "Note: you may need to restart the kernel to use updated packages.\n"
     ]
    }
   ],
   "source": [
    "%pip install gensim --quiet\n",
    "\n",
    "import re\n",
    "from joblib import Parallel, delayed\n",
    "from gensim.models.doc2vec import Doc2Vec, TaggedDocument\n",
    "from sklearn.linear_model import LogisticRegression\n",
    "import pandas as pd\n",
    "from sklearn.linear_model import LogisticRegression\n",
    "import joblib\n",
    "import nltk\n",
    "#nltk.download('all')"
   ]
  },
  {
   "cell_type": "code",
   "execution_count": null,
   "id": "8aa808b3",
   "metadata": {},
   "outputs": [
    {
     "name": "stdout",
     "output_type": "stream",
     "text": [
      "--- Inicio Preprocesado...\n"
     ]
    }
   ],
   "source": [
    "######################\n",
    "#### PREPROCESADO ####\n",
    "######################\n",
    "print(\"--- Inicio Preprocesado...\")\n",
    "\n",
    "# Tokenizer\n",
    "def preprocess_text_parallel(text):\n",
    "    return re.findall(r'\\b[a-zA-Z]+\\b', text.lower())\n",
    "\n",
    "df_train['tokens'] = Parallel(n_jobs=-1)(delayed(preprocess_text_parallel)(text) for text in df_train['text'])\n",
    "df_test['tokens'] = Parallel(n_jobs=-1)(delayed(preprocess_text_parallel)(text) for text in df_test['text'])\n",
    "\n",
    "# TaggedDocument\n",
    "tagged_train = [TaggedDocument(words=tokens, tags=[str(i)]) for i, tokens in enumerate(df_train['tokens'])]\n",
    "\n",
    "########################\n",
    "#### MODELO DOC2VEC ####\n",
    "########################\n",
    "\n",
    "# Initialize the Doc2Vec model\n",
    "model = Doc2Vec(vector_size=50,   # Dimensionality of the document vectors\n",
    "                window=2,         # Maximum distance between the current and predicted word within a sentence\n",
    "                min_count=1,      # Ignores all words with total frequency lower than this\n",
    "                workers=-1,       # Number of CPU cores to use for training\n",
    "                epochs=2)         # Number of training epochs\n",
    "\n",
    "model.build_vocab(tagged_train)\n",
    "model.train(tagged_train, total_examples=len(tagged_train), epochs=model.epochs)\n",
    "\n",
    "# Inferir vectores\n",
    "df_train['vector'] = df_train['tokens'].apply(lambda x: model.infer_vector(x))\n",
    "df_test['vector'] = df_test['tokens'].apply(lambda x: model.infer_vector(x))\n",
    "\n",
    "\n",
    "X_test = list(df_test['vector'])\n",
    "\n",
    "#############################\n",
    "#### MODELO CLASIFICADOR ####\n",
    "#############################\n",
    "\n",
    "X_list_train = list(df_train['vector'])\n",
    "y_train = df_train['stars']\n",
    "\n",
    "\n",
    "classifier = LogisticRegression(max_iter=1000)\n",
    "classifier.fit(X_list_train, y_train)\n",
    "\n",
    "predicted_stars = classifier.predict(X_test)\n",
    "\n",
    "submission_df = pd.DataFrame({\n",
    "    'review_id': df_test['review_id'],\n",
    "    'stars': predicted_stars\n",
    "})\n",
    "submission_df.to_csv('prediction_doc2vec_logreg.csv', index=False)"
   ]
  }
 ],
 "metadata": {
  "kernelspec": {
   "display_name": "base",
   "language": "python",
   "name": "python3"
  },
  "language_info": {
   "codemirror_mode": {
    "name": "ipython",
    "version": 3
   },
   "file_extension": ".py",
   "mimetype": "text/x-python",
   "name": "python",
   "nbconvert_exporter": "python",
   "pygments_lexer": "ipython3",
   "version": "3.12.3"
  }
 },
 "nbformat": 4,
 "nbformat_minor": 5
}
