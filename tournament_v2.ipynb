{
 "cells": [
  {
   "cell_type": "code",
   "execution_count": 3,
   "metadata": {},
   "outputs": [],
   "source": [
    "import pandas as pd\n",
    "\n",
    "df_train = pd.read_csv('train.csv', sep=',', index_col=False)\n",
    "df_test = pd.read_csv('test.csv', sep=',', index_col=False)"
   ]
  },
  {
   "cell_type": "markdown",
   "metadata": {},
   "source": [
    "## SVD++"
   ]
  },
  {
   "cell_type": "code",
   "execution_count": 8,
   "metadata": {},
   "outputs": [],
   "source": [
    "import pandas as pd\n",
    "from surprise import Dataset, Reader, SVDpp\n",
    "\n",
    "# Definir el lector con la escala de ratings (ajustar si es diferente)\n",
    "reader = Reader(rating_scale=(0, 10))\n",
    "\n",
    "# Cargar datos de entrenamiento\n",
    "data = Dataset.load_from_df(df_train[['user', 'item', 'rating']], reader)\n",
    "trainset = data.build_full_trainset()\n",
    "\n",
    "# Entrenar el modelo SVD++\n",
    "model = SVDpp()\n",
    "model.fit(trainset)\n",
    "\n",
    "# Generar predicciones para el conjunto de test\n",
    "predictions = [\n",
    "    (idx, model.predict(row['user'], row['item']).est)\n",
    "    for idx, row in df_test.iterrows()\n",
    "]\n",
    "\n",
    "# Convertir a DataFrame\n",
    "predictions_df = pd.DataFrame(predictions, columns=['ID', 'rating'])\n",
    "\n",
    "\n",
    "predictions_df.to_csv('predictions_svd++.csv', index=False)\n",
    "\n",
    "\n"
   ]
  },
  {
   "cell_type": "code",
   "execution_count": 13,
   "metadata": {},
   "outputs": [
    {
     "data": {
      "text/html": [
       "<div>\n",
       "<style scoped>\n",
       "    .dataframe tbody tr th:only-of-type {\n",
       "        vertical-align: middle;\n",
       "    }\n",
       "\n",
       "    .dataframe tbody tr th {\n",
       "        vertical-align: top;\n",
       "    }\n",
       "\n",
       "    .dataframe thead th {\n",
       "        text-align: right;\n",
       "    }\n",
       "</style>\n",
       "<table border=\"1\" class=\"dataframe\">\n",
       "  <thead>\n",
       "    <tr style=\"text-align: right;\">\n",
       "      <th></th>\n",
       "      <th>ID</th>\n",
       "      <th>rating</th>\n",
       "    </tr>\n",
       "  </thead>\n",
       "  <tbody>\n",
       "    <tr>\n",
       "      <th>0</th>\n",
       "      <td>0</td>\n",
       "      <td>7.665822</td>\n",
       "    </tr>\n",
       "    <tr>\n",
       "      <th>1</th>\n",
       "      <td>1</td>\n",
       "      <td>7.828304</td>\n",
       "    </tr>\n",
       "    <tr>\n",
       "      <th>2</th>\n",
       "      <td>2</td>\n",
       "      <td>5.396603</td>\n",
       "    </tr>\n",
       "    <tr>\n",
       "      <th>3</th>\n",
       "      <td>3</td>\n",
       "      <td>8.416123</td>\n",
       "    </tr>\n",
       "    <tr>\n",
       "      <th>4</th>\n",
       "      <td>4</td>\n",
       "      <td>7.082956</td>\n",
       "    </tr>\n",
       "    <tr>\n",
       "      <th>...</th>\n",
       "      <td>...</td>\n",
       "      <td>...</td>\n",
       "    </tr>\n",
       "    <tr>\n",
       "      <th>43315</th>\n",
       "      <td>43315</td>\n",
       "      <td>6.973361</td>\n",
       "    </tr>\n",
       "    <tr>\n",
       "      <th>43316</th>\n",
       "      <td>43316</td>\n",
       "      <td>8.810983</td>\n",
       "    </tr>\n",
       "    <tr>\n",
       "      <th>43317</th>\n",
       "      <td>43317</td>\n",
       "      <td>7.665153</td>\n",
       "    </tr>\n",
       "    <tr>\n",
       "      <th>43318</th>\n",
       "      <td>43318</td>\n",
       "      <td>6.821205</td>\n",
       "    </tr>\n",
       "    <tr>\n",
       "      <th>43319</th>\n",
       "      <td>43319</td>\n",
       "      <td>8.852613</td>\n",
       "    </tr>\n",
       "  </tbody>\n",
       "</table>\n",
       "<p>43320 rows × 2 columns</p>\n",
       "</div>"
      ],
      "text/plain": [
       "          ID    rating\n",
       "0          0  7.665822\n",
       "1          1  7.828304\n",
       "2          2  5.396603\n",
       "3          3  8.416123\n",
       "4          4  7.082956\n",
       "...      ...       ...\n",
       "43315  43315  6.973361\n",
       "43316  43316  8.810983\n",
       "43317  43317  7.665153\n",
       "43318  43318  6.821205\n",
       "43319  43319  8.852613\n",
       "\n",
       "[43320 rows x 2 columns]"
      ]
     },
     "execution_count": 13,
     "metadata": {},
     "output_type": "execute_result"
    }
   ],
   "source": [
    "predictions_df"
   ]
  }
 ],
 "metadata": {
  "kernelspec": {
   "display_name": "py311_env",
   "language": "python",
   "name": "python3"
  },
  "language_info": {
   "codemirror_mode": {
    "name": "ipython",
    "version": 3
   },
   "file_extension": ".py",
   "mimetype": "text/x-python",
   "name": "python",
   "nbconvert_exporter": "python",
   "pygments_lexer": "ipython3",
   "version": "3.11.10"
  }
 },
 "nbformat": 4,
 "nbformat_minor": 2
}
